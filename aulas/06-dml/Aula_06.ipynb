{
 "cells": [
  {
   "cell_type": "markdown",
   "metadata": {
    "tags": []
   },
   "source": [
    "# Experimentando com bancos de dados em Python"
   ]
  },
  {
   "cell_type": "markdown",
   "metadata": {},
   "source": [
    "## Conectando com a base de dados"
   ]
  },
  {
   "cell_type": "markdown",
   "metadata": {},
   "source": [
    "Existem sistemas de gerenciamento de bancos de dados que operam no mesmo processo da aplicação cliente - ou seja, são bibliotecas que você pode importar diretamente no seu programa. Por exemplo: a biblioteca ``sqlite3`` (https://docs.python.org/3/library/sqlite3.html) é parte do conjunto de bibliotecas padrão da linguagem Python, e permite criar bases de dados diretamente em arquivo ou memória, sem a necessidade de um programa em separado. Eis um exemplo de uso de sqlite3:"
   ]
  },
  {
   "cell_type": "code",
   "execution_count": 1,
   "metadata": {},
   "outputs": [],
   "source": [
    "import sqlite3\n",
    "\n",
    "db = sqlite3.connect(\"teste.db\")\n",
    "# Para criar a base em memória (base temporária) use o nome de arquivo\n",
    "# \":memory:\""
   ]
  },
  {
   "cell_type": "markdown",
   "metadata": {},
   "source": [
    "Note que o arquivo ``teste.db`` foi criado. "
   ]
  },
  {
   "cell_type": "code",
   "execution_count": 3,
   "metadata": {},
   "outputs": [
    {
     "name": "stdout",
     "output_type": "stream",
     "text": [
      "True\n"
     ]
    }
   ],
   "source": [
    "import os\n",
    "\n",
    "print(\"teste.db\" in os.listdir())"
   ]
  },
  {
   "cell_type": "markdown",
   "metadata": {},
   "source": [
    "Apesar do ``sqlite3`` criar o sistema de gerenciamento de banco de dados (SGBD) SQLite diretamente no nosso processo (neste caso, o kernel Python que está sendo executado por esse notebook), o objeto de acesso ainda é uma \"conexão\". Isso se deve ao fato de que SGBDs \"normais\" - aqueles que realmente usamos em produção - são geralmente *sistemas cliente-servidor*, onde o SGBD é um processo separado da aplicação cliente e a comunicação entre eles acontece através de uma conexão de rede.\n",
    "\n",
    "<center><img src='imgs/client-server.png'></center>\n",
    "\n",
    "**Atividade:**\n",
    "\n",
    "Na figura acima, quem é o cliente do sistema de gerenciamento de banco de dados?"
   ]
  },
  {
   "cell_type": "markdown",
   "metadata": {},
   "source": [
    "<div class=\"alert alert-success\">\n",
    "\n",
    "Sua resposta aqui! Dê dois cliques e edite.\n",
    "    \n",
    "    Escreva AQUI!\n",
    "\n",
    "</div>"
   ]
  },
  {
   "cell_type": "markdown",
   "metadata": {},
   "source": [
    "Uma conexão é simplesmente o conduíte entre o cliente e o SGBD. Em Python, a especificação PEP 249 (https://www.python.org/dev/peps/pep-0249/) define que uma conexão deve ter os métodos ``.close()`` (para fechar a conexão), ``.cursor()`` (para obter um *cursor*, que é o objeto para realmente interagir com o banco de dados), e o par ``.commit()``/``.rollback()`` (para gerenciamento de transações).\n",
    "\n",
    "Vamos fechar essa conexão e trabalhar com o MySQL daqui em diante."
   ]
  },
  {
   "cell_type": "code",
   "execution_count": 4,
   "metadata": {},
   "outputs": [],
   "source": [
    "db.close()"
   ]
  },
  {
   "cell_type": "code",
   "execution_count": 5,
   "metadata": {},
   "outputs": [],
   "source": [
    "os.remove(\"teste.db\")"
   ]
  },
  {
   "cell_type": "markdown",
   "metadata": {},
   "source": [
    "Antes de tudo vamos criar um banco de dados. Queremos criar um banco de dados para gerenciar as equipes do primeiro campeonato Insper de ninja-cowboy-urso!\n",
    "\n",
    "- Ninja, com sua velocidade e furtividade, detona o cowboy.\n",
    "- O cowboy atira no urso.\n",
    "- O urso dá uma patada no ninja e acaba com ele.\n",
    "\n",
    "Cada jogador tem um nome, uma equipe, e sua jogada favorita. As equipes tem um nome e um grito de guerra.\n",
    "\n",
    "Portanto, nosso schema será:\n",
    "\n",
    "```\n",
    "jogador (id PK, nome_equipe, nome, preferencia)\n",
    "equipe (nome PK, grito)\n",
    "```\n",
    "\n",
    "com a restrição:\n",
    "\n",
    "```\n",
    "jogador(nome_equipe) FK para equipe(nome)\n",
    "```\n",
    "\n",
    "E um dicionário de dados simples para este problema é:\n",
    "\n",
    "<center><b>jogador</b></center>\n",
    "<table>\n",
    "    <tr>\n",
    "        <th>Campo</th>\n",
    "        <th>Tipo</th>\n",
    "        <th>Significado</th>\n",
    "        <th>Chave?</th>\n",
    "        <th>Valores</th>\n",
    "    </tr>\n",
    "    <tr>\n",
    "        <td>id</td>\n",
    "        <td>int</td>\n",
    "        <td>Identificador unico do jogador</td>\n",
    "        <td>PK</td>\n",
    "        <td>sem restrições</td>\n",
    "    </tr>\n",
    "    <tr>\n",
    "        <td>nome_equipe</td>\n",
    "        <td>string</td>\n",
    "        <td>Nome da equipe na qual o jogador atua</td>\n",
    "        <td>FK equipe(nome)</td>\n",
    "        <td></td>\n",
    "    </tr>\n",
    "    <tr>\n",
    "        <td>nome</td>\n",
    "        <td>string</td>\n",
    "        <td>Nome do jogador</td>\n",
    "        <td></td>\n",
    "        <td>Pode haver dois jogadores com mesmo nome. Máximo 80 caracteres.</td>\n",
    "    </tr>\n",
    "    <tr>\n",
    "        <td>preferencia</td>\n",
    "        <td>int</td>\n",
    "        <td>Jogada preferida do jogador</td>\n",
    "        <td></td>\n",
    "        <td>0: Ninja, 1: Cowboy, 2: Urso</td>\n",
    "    </tr>\n",
    "</table>\n",
    "\n",
    "<center><b>equipe</b></center>\n",
    "<table>\n",
    "    <tr>\n",
    "        <th>Campo</th>\n",
    "        <th>Tipo</th>\n",
    "        <th>Significado</th>\n",
    "        <th>Chave?</th>\n",
    "        <th>Valores</th>\n",
    "    </tr>\n",
    "    <tr>\n",
    "        <td>nome</td>\n",
    "        <td>string</td>\n",
    "        <td>Nome da equipe</td>\n",
    "        <td>PK</td>\n",
    "        <td>Máximo 30 caracteres</td>\n",
    "    </tr>\n",
    "    <tr>\n",
    "        <td>grito</td>\n",
    "        <td>string</td>\n",
    "        <td>Grito de guerra da equipe</td>\n",
    "        <td></td>\n",
    "        <td>Maximo 80 caracteres</td>\n",
    "    </tr>\n",
    "</table>\n",
    "\n",
    "**Atividade:** Escreva e rode o script de criação do banco de dados. Chame o banco de dados de ``torneio``. Compare com o gabarito em ``script_001.sql``."
   ]
  },
  {
   "cell_type": "code",
   "execution_count": 6,
   "metadata": {},
   "outputs": [
    {
     "name": "stdout",
     "output_type": "stream",
     "text": [
      "Requirement already satisfied: mysql-connector-python in /Library/Frameworks/Python.framework/Versions/3.11/lib/python3.11/site-packages (9.2.0)\n",
      "\n",
      "\u001b[1m[\u001b[0m\u001b[34;49mnotice\u001b[0m\u001b[1;39;49m]\u001b[0m\u001b[39;49m A new release of pip is available: \u001b[0m\u001b[31;49m23.2.1\u001b[0m\u001b[39;49m -> \u001b[0m\u001b[32;49m25.0.1\u001b[0m\n",
      "\u001b[1m[\u001b[0m\u001b[34;49mnotice\u001b[0m\u001b[1;39;49m]\u001b[0m\u001b[39;49m To update, run: \u001b[0m\u001b[32;49mpython3.11 -m pip install --upgrade pip\u001b[0m\n"
     ]
    }
   ],
   "source": [
    "!pip3 install mysql-connector-python"
   ]
  },
  {
   "cell_type": "markdown",
   "metadata": {},
   "source": [
    "Para conectar com o MySQL precisamos da biblioteca *mysql-connector-python*. \n",
    "Para instalar esta biblioteca:\n",
    "\n",
    "**`pip install mysql-connector-python`**"
   ]
  },
  {
   "cell_type": "code",
   "execution_count": 7,
   "metadata": {},
   "outputs": [],
   "source": [
    "from dotenv import load_dotenv\n",
    "import insperautograder.jupyter as ia\n",
    "import mysql.connector\n",
    "import os"
   ]
  },
  {
   "cell_type": "code",
   "execution_count": 8,
   "metadata": {},
   "outputs": [
    {
     "data": {
      "text/plain": [
       "True"
      ]
     },
     "execution_count": 8,
     "metadata": {},
     "output_type": "execute_result"
    }
   ],
   "source": [
    "load_dotenv(override=True)"
   ]
  },
  {
   "cell_type": "markdown",
   "metadata": {},
   "source": [
    "Vamos agora abrir uma conexão com o MySQL. Como agora temos realmente um sistema cliente-servidor, precisamos definir onde está o servidor, e precisamos também de informações de autenticação."
   ]
  },
  {
   "cell_type": "code",
   "execution_count": 9,
   "metadata": {},
   "outputs": [],
   "source": [
    "connection_options = {\n",
    "    \"host\": \"localhost\",\n",
    "    \"user\": \"root\",\n",
    "    \"password\": \"123456\",\n",
    "    \"database\": \"torneio\"\n",
    "}"
   ]
  },
  {
   "cell_type": "markdown",
   "metadata": {},
   "source": [
    "**Pergunta**: Faz sentido guardar o *user* e *password* dentro do próprio código fonte? Qual o jeito correto de lidar com username e password no seu produto?"
   ]
  },
  {
   "cell_type": "markdown",
   "metadata": {},
   "source": [
    "<div class=\"alert alert-success\">\n",
    "\n",
    "Sua resposta aqui! Dê dois cliques e edite.\n",
    "    \n",
    "    Escreva AQUI!\n",
    "\n",
    "</div>"
   ]
  },
  {
   "cell_type": "markdown",
   "metadata": {},
   "source": [
    "**Resposta**: \n",
    "\n",
    "Não se deve guardar *user* e *password* dentro do código fonte, pois trata-se de:\n",
    "- Informação sensível e que não deve ser acessada pelos programadores.\n",
    "- Informação que muda com frequência - ou pelo menos deveria mudar!\n",
    "- Dado puro, que deve ser separado do código.\n",
    "\n",
    "Algumas alternativas populares para resolver esse problema são:\n",
    "- Use um arquivo de configuração na conta que será usada para rodar a aplicação. Este arquivo deve ter todas as permissões de acesso negadas, exceto permissão de leitura para o próprio usuário da conta de execução da aplicação. O arquivo deverá ser lido então pela aplicação no momento da inicialização.\n",
    "- Use uma variável de ambiente com essas credenciais. É a mesma coisa que no ítem anterior, só ao invés de ter um arquivo de configuração da aplicação, temos o arquivo de configuração da conta em si, com os mesmos requisitos em relação às restrições de permissão."
   ]
  },
  {
   "cell_type": "markdown",
   "metadata": {},
   "source": [
    "## Atualizando `.env`\n",
    "\n",
    "### Tarefa:\n",
    "\n",
    "Atualize o arquivo `.env`. Por enquanto ele provavelmente contém apenas as variáveis criadas para a API de correção automática:\n",
    "\n",
    "```python\n",
    "IAG_SERVER_URL=\"https://bigdata.insper-comp.com.br/iag\"\n",
    "IAG_SUBJECT=\"megadados\"\n",
    "IAG_OFFERING=\"xxxx\"\n",
    "IAG_TOKEN=\"iagtok_xxxxxxxxxxxxxxxxxxxxxxxxxxxxxxxxxxxxxxxxxxxxxxxxx\"\n",
    "```\n",
    "\n",
    "Vamos adicionar três novas variáveis:\n",
    "\n",
    "- `MD_DB_SERVER`: o endereço para o host onde o mysql está instalado (provavelmente `\"localhost\"`)\n",
    "- `MD_DB_USERNAME`: o usuário para acesso ao banco (provavelmente `\"root\"`)\n",
    "- `MD_DB_PASSWORD`: a senha do usuário."
   ]
  },
  {
   "cell_type": "markdown",
   "metadata": {},
   "source": [
    "\n",
    "O `.env` ficará neste formato (veja as três novas variáveis ao final):\n",
    "\n",
    "```python\n",
    "IAG_SERVER_URL=\"https://bigdata.xxxxxxx\"\n",
    "IAG_SUBJECT=\"alguma_disciplina\"\n",
    "IAG_OFFERING=\"xxx\"\n",
    "IAG_TOKEN=\"iagtok_xxxxxxxxxxxxxxxxxxxxxxxxxxxxxxxxxxxxxxxxxxxxxxxxx\"\n",
    "MD_DB_SERVER=\"localhost\"\n",
    "MD_DB_USERNAME=\"root\"\n",
    "MD_DB_PASSWORD=\"alguma_senha\"\n",
    "```"
   ]
  },
  {
   "cell_type": "code",
   "execution_count": 11,
   "metadata": {},
   "outputs": [],
   "source": [
    "load_dotenv(override=True)\n",
    "\n",
    "connection_options = {\n",
    "    \"host\": os.getenv(\"MD_DB_SERVER\"),\n",
    "    \"user\": os.getenv(\"MD_DB_USERNAME\"),\n",
    "    \"password\": os.getenv(\"MD_DB_PASSWORD\"),\n",
    "    \"database\": \"torneio\"\n",
    "}"
   ]
  },
  {
   "cell_type": "markdown",
   "metadata": {},
   "source": [
    "**Abrindo a conexão:**"
   ]
  },
  {
   "cell_type": "code",
   "execution_count": 12,
   "metadata": {},
   "outputs": [
    {
     "ename": "DatabaseError",
     "evalue": "2003 (HY000): Can't connect to MySQL server on 'localhost:3306' (61)",
     "output_type": "error",
     "traceback": [
      "\u001b[0;31m---------------------------------------------------------------------------\u001b[0m",
      "\u001b[0;31mMySQLInterfaceError\u001b[0m                       Traceback (most recent call last)",
      "File \u001b[0;32m/Library/Frameworks/Python.framework/Versions/3.11/lib/python3.11/site-packages/mysql/connector/connection_cext.py:365\u001b[0m, in \u001b[0;36mCMySQLConnection._open_connection\u001b[0;34m(self)\u001b[0m\n\u001b[1;32m    364\u001b[0m \u001b[38;5;28;01mtry\u001b[39;00m:\n\u001b[0;32m--> 365\u001b[0m     \u001b[38;5;28;43mself\u001b[39;49m\u001b[38;5;241;43m.\u001b[39;49m\u001b[43m_cmysql\u001b[49m\u001b[38;5;241;43m.\u001b[39;49m\u001b[43mconnect\u001b[49m\u001b[43m(\u001b[49m\u001b[38;5;241;43m*\u001b[39;49m\u001b[38;5;241;43m*\u001b[39;49m\u001b[43mcnx_kwargs\u001b[49m\u001b[43m)\u001b[49m\n\u001b[1;32m    366\u001b[0m     \u001b[38;5;28mself\u001b[39m\u001b[38;5;241m.\u001b[39m_cmysql\u001b[38;5;241m.\u001b[39mconverter_str_fallback \u001b[38;5;241m=\u001b[39m \u001b[38;5;28mself\u001b[39m\u001b[38;5;241m.\u001b[39m_converter_str_fallback\n",
      "\u001b[0;31mMySQLInterfaceError\u001b[0m: Can't connect to MySQL server on 'localhost:3306' (61)",
      "\nThe above exception was the direct cause of the following exception:\n",
      "\u001b[0;31mDatabaseError\u001b[0m                             Traceback (most recent call last)",
      "Cell \u001b[0;32mIn[12], line 12\u001b[0m\n\u001b[1;32m      1\u001b[0m \u001b[38;5;66;03m# A notação de duplo asterisco em Python permite usar um dicionário \u001b[39;00m\n\u001b[1;32m      2\u001b[0m \u001b[38;5;66;03m# no lugar de argumentos nomeados. A linha a ser executada abaixo equivale á:\u001b[39;00m\n\u001b[1;32m      3\u001b[0m \u001b[38;5;66;03m#\u001b[39;00m\n\u001b[0;32m   (...)\u001b[0m\n\u001b[1;32m     10\u001b[0m \u001b[38;5;66;03m# )\u001b[39;00m\n\u001b[1;32m     11\u001b[0m \u001b[38;5;66;03m#\u001b[39;00m\n\u001b[0;32m---> 12\u001b[0m connection \u001b[38;5;241m=\u001b[39m \u001b[43mmysql\u001b[49m\u001b[38;5;241;43m.\u001b[39;49m\u001b[43mconnector\u001b[49m\u001b[38;5;241;43m.\u001b[39;49m\u001b[43mconnect\u001b[49m\u001b[43m(\u001b[49m\u001b[38;5;241;43m*\u001b[39;49m\u001b[38;5;241;43m*\u001b[39;49m\u001b[43mconnection_options\u001b[49m\u001b[43m)\u001b[49m\n",
      "File \u001b[0;32m/Library/Frameworks/Python.framework/Versions/3.11/lib/python3.11/site-packages/mysql/connector/pooling.py:322\u001b[0m, in \u001b[0;36mconnect\u001b[0;34m(*args, **kwargs)\u001b[0m\n\u001b[1;32m    319\u001b[0m         \u001b[38;5;28;01mraise\u001b[39;00m \u001b[38;5;167;01mImportError\u001b[39;00m(ERROR_NO_CEXT)\n\u001b[1;32m    321\u001b[0m \u001b[38;5;28;01mif\u001b[39;00m CMySQLConnection \u001b[38;5;129;01mand\u001b[39;00m \u001b[38;5;129;01mnot\u001b[39;00m use_pure:\n\u001b[0;32m--> 322\u001b[0m     \u001b[38;5;28;01mreturn\u001b[39;00m \u001b[43mCMySQLConnection\u001b[49m\u001b[43m(\u001b[49m\u001b[38;5;241;43m*\u001b[39;49m\u001b[43margs\u001b[49m\u001b[43m,\u001b[49m\u001b[43m \u001b[49m\u001b[38;5;241;43m*\u001b[39;49m\u001b[38;5;241;43m*\u001b[39;49m\u001b[43mkwargs\u001b[49m\u001b[43m)\u001b[49m\n\u001b[1;32m    323\u001b[0m \u001b[38;5;28;01mreturn\u001b[39;00m MySQLConnection(\u001b[38;5;241m*\u001b[39margs, \u001b[38;5;241m*\u001b[39m\u001b[38;5;241m*\u001b[39mkwargs)\n",
      "File \u001b[0;32m/Library/Frameworks/Python.framework/Versions/3.11/lib/python3.11/site-packages/mysql/connector/connection_cext.py:153\u001b[0m, in \u001b[0;36mCMySQLConnection.__init__\u001b[0;34m(self, **kwargs)\u001b[0m\n\u001b[1;32m    151\u001b[0m \u001b[38;5;28;01mif\u001b[39;00m kwargs:\n\u001b[1;32m    152\u001b[0m     \u001b[38;5;28;01mtry\u001b[39;00m:\n\u001b[0;32m--> 153\u001b[0m         \u001b[38;5;28;43mself\u001b[39;49m\u001b[38;5;241;43m.\u001b[39;49m\u001b[43mconnect\u001b[49m\u001b[43m(\u001b[49m\u001b[38;5;241;43m*\u001b[39;49m\u001b[38;5;241;43m*\u001b[39;49m\u001b[43mkwargs\u001b[49m\u001b[43m)\u001b[49m\n\u001b[1;32m    154\u001b[0m     \u001b[38;5;28;01mexcept\u001b[39;00m \u001b[38;5;167;01mException\u001b[39;00m:\n\u001b[1;32m    155\u001b[0m         \u001b[38;5;28mself\u001b[39m\u001b[38;5;241m.\u001b[39mclose()\n",
      "File \u001b[0;32m/Library/Frameworks/Python.framework/Versions/3.11/lib/python3.11/site-packages/mysql/connector/abstracts.py:1529\u001b[0m, in \u001b[0;36mMySQLConnectionAbstract.connect\u001b[0;34m(self, **kwargs)\u001b[0m\n\u001b[1;32m   1526\u001b[0m     \u001b[38;5;28mself\u001b[39m\u001b[38;5;241m.\u001b[39mconfig(\u001b[38;5;241m*\u001b[39m\u001b[38;5;241m*\u001b[39mkwargs)\n\u001b[1;32m   1528\u001b[0m \u001b[38;5;28mself\u001b[39m\u001b[38;5;241m.\u001b[39mdisconnect()\n\u001b[0;32m-> 1529\u001b[0m \u001b[38;5;28;43mself\u001b[39;49m\u001b[38;5;241;43m.\u001b[39;49m\u001b[43m_open_connection\u001b[49m\u001b[43m(\u001b[49m\u001b[43m)\u001b[49m\n\u001b[1;32m   1531\u001b[0m charset, collation \u001b[38;5;241m=\u001b[39m (\n\u001b[1;32m   1532\u001b[0m     kwargs\u001b[38;5;241m.\u001b[39mpop(\u001b[38;5;124m\"\u001b[39m\u001b[38;5;124mcharset\u001b[39m\u001b[38;5;124m\"\u001b[39m, \u001b[38;5;28;01mNone\u001b[39;00m),\n\u001b[1;32m   1533\u001b[0m     kwargs\u001b[38;5;241m.\u001b[39mpop(\u001b[38;5;124m\"\u001b[39m\u001b[38;5;124mcollation\u001b[39m\u001b[38;5;124m\"\u001b[39m, \u001b[38;5;28;01mNone\u001b[39;00m),\n\u001b[1;32m   1534\u001b[0m )\n\u001b[1;32m   1535\u001b[0m \u001b[38;5;28;01mif\u001b[39;00m charset \u001b[38;5;129;01mor\u001b[39;00m collation:\n",
      "File \u001b[0;32m/Library/Frameworks/Python.framework/Versions/3.11/lib/python3.11/site-packages/mysql/connector/connection_cext.py:370\u001b[0m, in \u001b[0;36mCMySQLConnection._open_connection\u001b[0;34m(self)\u001b[0m\n\u001b[1;32m    368\u001b[0m         \u001b[38;5;28mself\u001b[39m\u001b[38;5;241m.\u001b[39mconverter\u001b[38;5;241m.\u001b[39mstr_fallback \u001b[38;5;241m=\u001b[39m \u001b[38;5;28mself\u001b[39m\u001b[38;5;241m.\u001b[39m_converter_str_fallback\n\u001b[1;32m    369\u001b[0m \u001b[38;5;28;01mexcept\u001b[39;00m MySQLInterfaceError \u001b[38;5;28;01mas\u001b[39;00m err:\n\u001b[0;32m--> 370\u001b[0m     \u001b[38;5;28;01mraise\u001b[39;00m get_mysql_exception(\n\u001b[1;32m    371\u001b[0m         msg\u001b[38;5;241m=\u001b[39merr\u001b[38;5;241m.\u001b[39mmsg, errno\u001b[38;5;241m=\u001b[39merr\u001b[38;5;241m.\u001b[39merrno, sqlstate\u001b[38;5;241m=\u001b[39merr\u001b[38;5;241m.\u001b[39msqlstate\n\u001b[1;32m    372\u001b[0m     ) \u001b[38;5;28;01mfrom\u001b[39;00m \u001b[38;5;21;01merr\u001b[39;00m\n\u001b[1;32m    374\u001b[0m \u001b[38;5;28mself\u001b[39m\u001b[38;5;241m.\u001b[39m_do_handshake()\n\u001b[1;32m    376\u001b[0m \u001b[38;5;28;01mif\u001b[39;00m (\n\u001b[1;32m    377\u001b[0m     \u001b[38;5;129;01mnot\u001b[39;00m \u001b[38;5;28mself\u001b[39m\u001b[38;5;241m.\u001b[39m_ssl_disabled\n\u001b[1;32m    378\u001b[0m     \u001b[38;5;129;01mand\u001b[39;00m \u001b[38;5;28mhasattr\u001b[39m(\u001b[38;5;28mself\u001b[39m\u001b[38;5;241m.\u001b[39m_cmysql, \u001b[38;5;124m\"\u001b[39m\u001b[38;5;124mget_ssl_cipher\u001b[39m\u001b[38;5;124m\"\u001b[39m)\n\u001b[0;32m   (...)\u001b[0m\n\u001b[1;32m    383\u001b[0m \n\u001b[1;32m    384\u001b[0m     \u001b[38;5;66;03m# `get_ssl_cipher()` returns the name of the cipher being used.\u001b[39;00m\n",
      "\u001b[0;31mDatabaseError\u001b[0m: 2003 (HY000): Can't connect to MySQL server on 'localhost:3306' (61)"
     ]
    }
   ],
   "source": [
    "# A notação de duplo asterisco em Python permite usar um dicionário \n",
    "# no lugar de argumentos nomeados. A linha a ser executada abaixo equivale á:\n",
    "#\n",
    "# connection = mysql.connector.connect(\n",
    "#     host=os.getenv(\"MD_DB_SERVER\"),\n",
    "#     user=os.getenv(\"MD_DB_USERNAME\"),\n",
    "#     password=os.getenv(\"MD_DB_PASSWORD\"),\n",
    "#     database=\"torneio\"\n",
    "# )\n",
    "# )\n",
    "#\n",
    "connection = mysql.connector.connect(**connection_options)"
   ]
  },
  {
   "cell_type": "markdown",
   "metadata": {},
   "source": [
    "<div class=\"alert alert-info\">\n",
    "\n",
    "**IMPORTANTE:**\n",
    "\n",
    "TODAS AS OPERAÇÕES REALIZADAS NESTA CONEXÃO SÃO TEMPORÁRIAS, ATÉ QUE O COMANDO `connection.commit()` seja executado!\n",
    "\n",
    "</div>\n",
    "\n",
    "<div class=\"alert alert-warning\" role=\"alert\">\n",
    "    \n",
    "**MAIS IMPORTANTE AINDA:**\n",
    "\n",
    "ISSO NÃO VALE SE `AUTOCOMMIT` ESTIVER LIGADO!\n",
    "\n",
    "</div>\n",
    "\n",
    "\n",
    "Estudaremos melhor essa questão quando discutirmos transações em maiores detalhes.\n",
    "\n",
    "Vamos criar alguns dados iniciais:"
   ]
  },
  {
   "cell_type": "code",
   "execution_count": 11,
   "metadata": {},
   "outputs": [],
   "source": [
    "T1 = \"Raposas Nerds\"\n",
    "T2 = \"É nois\"\n",
    "\n",
    "NINJA = 0\n",
    "COWBOY = 1\n",
    "URSO = 2\n",
    "\n",
    "times = {\n",
    "    T1: \"sudo vencer!\",\n",
    "    T2: \"Olha eu mamãe!\",\n",
    "}\n",
    "\n",
    "jogadores = [\n",
    "    (\"Raul Ayres\", T1, NINJA),\n",
    "    (\"Luciano Hashimoto\", T1, COWBOY),\n",
    "    (\"Rafael Montaigner\", T1, URSO),\n",
    "    (\"Igor Miranda\", T2, URSO),\n",
    "    (\"Andrew Ikeda\", T2, COWBOY),\n",
    "    (\"Fábio Kurauchi\", T2, NINJA),\n",
    "]"
   ]
  },
  {
   "cell_type": "markdown",
   "metadata": {},
   "source": [
    "Vamos inserir os dados dos times.\n",
    "\n",
    "**Atividade:** Quem devemos inserir primeiro: dados na tabela `equipe` ou na tabela `jogador`?"
   ]
  },
  {
   "cell_type": "markdown",
   "metadata": {},
   "source": [
    "<div class=\"alert alert-success\">\n",
    "\n",
    "Sua resposta aqui! Dê dois cliques e edite.\n",
    "    \n",
    "    Escreva AQUI!\n",
    "\n",
    "</div>"
   ]
  },
  {
   "cell_type": "markdown",
   "metadata": {},
   "source": [
    "Quando uma tabela tem chave estrangeira para outra tabela dizemos que ela é filha (*child*) da outra tabela, e que a outra tabela é a pai (*parent*).\n",
    "\n",
    "Um *cursor* é o objeto que permite executar queries SQL e interagir com os resultados obtidos.\n",
    "\n",
    "### Tentando inserir um jogador\n",
    "\n",
    "Vamos tentar inserir um jogador:"
   ]
  },
  {
   "cell_type": "code",
   "execution_count": 12,
   "metadata": {},
   "outputs": [
    {
     "name": "stdout",
     "output_type": "stream",
     "text": [
      "IntegrityError: 1452 (23000): Cannot add or update a child row: a foreign key constraint fails (`torneio`.`jogador`, CONSTRAINT `fk_equipe` FOREIGN KEY (`nome_equipe`) REFERENCES `equipe` (`nome`) ON DELETE CASCADE ON UPDATE CASCADE)\n"
     ]
    }
   ],
   "source": [
    "try:\n",
    "    with connection.cursor() as cursor:\n",
    "        cursor.execute(\"INSERT INTO jogador (nome, nome_equipe, preferencia) VALUES ('Joao', 'sete e meia', 0)\")\n",
    "    connection.commit()\n",
    "except mysql.connector.IntegrityError as exception:\n",
    "    print(f\"IntegrityError: {exception}\")\n",
    "    connection.rollback()"
   ]
  },
  {
   "cell_type": "markdown",
   "metadata": {},
   "source": [
    "Perceba que obtemos uma exceção, pois estamos tentando utilizar uma equipe inexistente na tabela de `equipe`.\n",
    "\n",
    "Isto responde nossa pergunta anterior: precisamos inserir primeiro as equipes. Vamos fazer isto utilizando um laço que fará todas as inserções:"
   ]
  },
  {
   "cell_type": "code",
   "execution_count": 13,
   "metadata": {},
   "outputs": [
    {
     "name": "stdout",
     "output_type": "stream",
     "text": [
      "IntegrityError: 1062 (23000): Duplicate entry 'Raposas Nerds' for key 'equipe.PRIMARY'\n"
     ]
    }
   ],
   "source": [
    "try:\n",
    "    with connection.cursor() as cursor:\n",
    "        # Outra opção aqui seria o uso de cursor.executemany()\n",
    "        for time, grito in times.items():\n",
    "            cursor.execute(\"INSERT INTO equipe VALUES (%s, %s)\", (time, grito))\n",
    "    connection.commit()\n",
    "except mysql.connector.IntegrityError as exception:\n",
    "    print(f\"IntegrityError: {exception}\")\n",
    "    connection.rollback()"
   ]
  },
  {
   "cell_type": "markdown",
   "metadata": {},
   "source": [
    "Note o comando ``commit`` acima: ele serve para efetivar a operação no banco de dados. Verifique no MySQL Workbench que a operação foi bem sucedida.\n",
    "\n",
    "**Atividade:** Perceba que desta vez não especificamos os nomes das colunas no `INSERT`. É necessário deixar claro os campos da tabela?"
   ]
  },
  {
   "cell_type": "markdown",
   "metadata": {},
   "source": [
    "<div class=\"alert alert-success\">\n",
    "\n",
    "Sua resposta aqui! Dê dois cliques e edite.\n",
    "    \n",
    "    Escreva AQUI!\n",
    "\n",
    "</div>"
   ]
  },
  {
   "cell_type": "markdown",
   "metadata": {},
   "source": [
    "Podemos tambem usar nossa conexão para verificar o estado da tabela ``equipe``:"
   ]
  },
  {
   "cell_type": "code",
   "execution_count": 14,
   "metadata": {},
   "outputs": [
    {
     "name": "stdout",
     "output_type": "stream",
     "text": [
      "('Raposas Nerds', 'sudo vencer --force!')\n"
     ]
    }
   ],
   "source": [
    "with connection.cursor() as cursor:\n",
    "    cursor.execute(\"SELECT * FROM equipe\")\n",
    "    for item in cursor:\n",
    "        print(item)"
   ]
  },
  {
   "cell_type": "markdown",
   "metadata": {},
   "source": [
    "Podemos usar também nosso velho conhecido `pandas`!"
   ]
  },
  {
   "cell_type": "code",
   "execution_count": 15,
   "metadata": {},
   "outputs": [
    {
     "name": "stderr",
     "output_type": "stream",
     "text": [
      "/var/folders/zz/d4fg62q12ldgrqyw3mxfmhsw0000gn/T/ipykernel_13523/1435631091.py:2: UserWarning: pandas only supports SQLAlchemy connectable (engine/connection) or database string URI or sqlite3 DBAPI2 connection. Other DBAPI2 objects are not tested. Please consider using SQLAlchemy.\n",
      "  pd.read_sql_query(\"SELECT * FROM equipe\", connection)\n"
     ]
    },
    {
     "data": {
      "text/html": [
       "<div>\n",
       "<style scoped>\n",
       "    .dataframe tbody tr th:only-of-type {\n",
       "        vertical-align: middle;\n",
       "    }\n",
       "\n",
       "    .dataframe tbody tr th {\n",
       "        vertical-align: top;\n",
       "    }\n",
       "\n",
       "    .dataframe thead th {\n",
       "        text-align: right;\n",
       "    }\n",
       "</style>\n",
       "<table border=\"1\" class=\"dataframe\">\n",
       "  <thead>\n",
       "    <tr style=\"text-align: right;\">\n",
       "      <th></th>\n",
       "      <th>nome</th>\n",
       "      <th>grito</th>\n",
       "    </tr>\n",
       "  </thead>\n",
       "  <tbody>\n",
       "    <tr>\n",
       "      <th>0</th>\n",
       "      <td>Raposas Nerds</td>\n",
       "      <td>sudo vencer --force!</td>\n",
       "    </tr>\n",
       "  </tbody>\n",
       "</table>\n",
       "</div>"
      ],
      "text/plain": [
       "            nome                 grito\n",
       "0  Raposas Nerds  sudo vencer --force!"
      ]
     },
     "execution_count": 15,
     "metadata": {},
     "output_type": "execute_result"
    }
   ],
   "source": [
    "import pandas as pd\n",
    "pd.read_sql_query(\"SELECT * FROM equipe\", connection)"
   ]
  },
  {
   "cell_type": "markdown",
   "metadata": {},
   "source": [
    "**Atividade:** Tente executar novamente a inserção de dados, o que acontece?"
   ]
  },
  {
   "cell_type": "markdown",
   "metadata": {},
   "source": [
    "<div class=\"alert alert-success\">\n",
    "\n",
    "Sua resposta aqui! Dê dois cliques e edite.\n",
    "    \n",
    "    Escreva AQUI!\n",
    "\n",
    "</div>"
   ]
  },
  {
   "cell_type": "markdown",
   "metadata": {},
   "source": [
    "## Interlúdio: sanitização de entradas de dados"
   ]
  },
  {
   "cell_type": "markdown",
   "metadata": {},
   "source": [
    "Por que usamos aqueles ``%s`` no comando a ser executado? Por que não simplesmente incluir diretamente os dados na *string* do comando SQL? Por exemplo:\n",
    "\n",
    "```Python\n",
    "cursor.execute(\"INSERT INTO equipe VALUES ('\" + time + \"', '\" + grito + \"')\")\n",
    "```"
   ]
  },
  {
   "cell_type": "markdown",
   "metadata": {},
   "source": [
    "Muitas vezes o resultado é o mesmo! Contudo, e SE executássemos a query abaixo..."
   ]
  },
  {
   "cell_type": "markdown",
   "metadata": {},
   "source": [
    "time = \"Robert', ''); DROP DATABASE torneio; -- \"\n",
    "grito = \"\"\n",
    "\n",
    "with connection.cursor() as cursor:\n",
    "    for result in cursor.execute(\n",
    "            \"INSERT INTO equipe VALUES ('\" + time + \"', '\" + grito + \"')\",\n",
    "            multi=True,\n",
    "    ):\n",
    "        print(result)\n",
    "    connection.commit()\n",
    "\n",
    "with connection.cursor() as cursor:\n",
    "    cursor.execute(\"SELECT * FROM equipe\")\n",
    "    for item in cursor:\n",
    "        print(item)\n",
    "\n",
    "connection.close()"
   ]
  },
  {
   "cell_type": "markdown",
   "metadata": {},
   "source": [
    "A célula acima está desabilitada. Mas se quiser executar passe para tipo \"Code\" e rode. Depois, garanta que a conexão está fechada com `connection.close()`, volte para o começo do notebook e rode tudo de novo exceto a célula mortal!\n",
    "\n",
    "![Little Bobby Tables](imgs/exploits_of_a_mom.png)\n",
    "\n",
    "[Exploits of a mom](https://xkcd.com/327/)\n",
    "\n",
    "\n",
    "Existem jeitos de quebrar o sistema com esse tipo de ataque, onde o hacker tenta inserir código SQL mal-intencionado em formulários, na expectativa de que o programador não tenha feito a sanitização das entradas. Esse ataque chama-se ***'SQL injection'***."
   ]
  },
  {
   "cell_type": "markdown",
   "metadata": {},
   "source": [
    "Fim do interlúdio, voltamos à apresentação principal.\n",
    "\n",
    "Vamos agora inserir os jogadores. Neste caso não precisamos inserir a chave primária, pois ela é gerada automaticamente. Consequentemente temos que especificar que estamos inserindo apenas as demais colunas - temos que nomear as colunas na qual estamos inserindo os dados."
   ]
  },
  {
   "cell_type": "code",
   "execution_count": 16,
   "metadata": {},
   "outputs": [
    {
     "name": "stdout",
     "output_type": "stream",
     "text": [
      "1452 (23000): Cannot add or update a child row: a foreign key constraint fails (`torneio`.`jogador`, CONSTRAINT `fk_equipe` FOREIGN KEY (`nome_equipe`) REFERENCES `equipe` (`nome`) ON DELETE CASCADE ON UPDATE CASCADE)\n"
     ]
    }
   ],
   "source": [
    "try:\n",
    "    with connection.cursor() as cursor:\n",
    "        cursor.executemany(\n",
    "            \"INSERT INTO jogador (nome, nome_equipe, preferencia) VALUES (%s, %s, %s)\",\n",
    "            jogadores)\n",
    "    connection.commit()\n",
    "except Exception as e:\n",
    "    print(e)\n",
    "    connection.rollback()"
   ]
  },
  {
   "cell_type": "markdown",
   "metadata": {},
   "source": [
    "Vamos verificar se funcionou. Para evitar ter criar os cursores a todo momento e coletar os resultados vamos construir uma classe auxiliar, só para simplificar o código:"
   ]
  },
  {
   "cell_type": "code",
   "execution_count": 17,
   "metadata": {},
   "outputs": [],
   "source": [
    "class ConnectionHelper:\n",
    "\n",
    "    def __init__(self, connection):\n",
    "        self.connection = connection\n",
    "\n",
    "    def __call__(self, query, args=None):\n",
    "        with self.connection.cursor() as cursor:\n",
    "            print(\"Executando query:\")\n",
    "            cursor.execute(query, args)\n",
    "            for result in cursor:\n",
    "                print(result)"
   ]
  },
  {
   "cell_type": "code",
   "execution_count": 18,
   "metadata": {},
   "outputs": [],
   "source": [
    "db = ConnectionHelper(connection)"
   ]
  },
  {
   "cell_type": "markdown",
   "metadata": {},
   "source": [
    "Note o padrão de *'dependency injection'* aqui: ao invés de criar a conexão dentro do construtor da classe ConnectionHelper, passamos um objeto 'connection' que será armazenado dentro do ConnectionHelper. Qualquer objeto 'connection' pode ser passado, de qualquer classe, desde que obedeça a interface (implícita) de um objeto de conexão ao banco de dados. Neste nosso caso, tem que ter o método `cursor()` que retorne um objeto de interação com a base de dados."
   ]
  },
  {
   "cell_type": "markdown",
   "metadata": {},
   "source": [
    "## Explorando a estrutura da base de dados\n",
    "\n",
    "Vamos ver quais tabelas existem na base ``torneio``:"
   ]
  },
  {
   "cell_type": "code",
   "execution_count": 19,
   "metadata": {},
   "outputs": [
    {
     "name": "stdout",
     "output_type": "stream",
     "text": [
      "Executando query:\n",
      "('equipe',)\n",
      "('jogador',)\n"
     ]
    }
   ],
   "source": [
    "db(\"SHOW TABLES\")"
   ]
  },
  {
   "cell_type": "markdown",
   "metadata": {},
   "source": [
    "Para saber qual o schema da tabela `jogador`, podemos usar o comando '`DESCRIBE`'"
   ]
  },
  {
   "cell_type": "code",
   "execution_count": 20,
   "metadata": {
    "scrolled": true
   },
   "outputs": [
    {
     "name": "stdout",
     "output_type": "stream",
     "text": [
      "Executando query:\n",
      "('id', 'int', 'NO', 'PRI', None, 'auto_increment')\n",
      "('nome', 'varchar(80)', 'NO', '', None, '')\n",
      "('nome_equipe', 'varchar(30)', 'NO', 'MUL', None, '')\n",
      "('preferencia', 'int', 'YES', '', None, '')\n"
     ]
    }
   ],
   "source": [
    "db(\"DESCRIBE jogador\")"
   ]
  },
  {
   "cell_type": "markdown",
   "metadata": {},
   "source": [
    "## Consultando a base de dados\n",
    "\n",
    "Vamos usar o comando `SELECT` para listar os conteudos da tabela 'Jogador'"
   ]
  },
  {
   "cell_type": "code",
   "execution_count": 21,
   "metadata": {},
   "outputs": [
    {
     "name": "stdout",
     "output_type": "stream",
     "text": [
      "Executando query:\n",
      "(2, 'Raul Ayres', 'Raposas Nerds', 0)\n",
      "(3, 'Luciano Hashimoto', 'Raposas Nerds', 1)\n",
      "(4, 'Rafael Montaigner', 'Raposas Nerds', 2)\n"
     ]
    }
   ],
   "source": [
    "db(\"SELECT * FROM jogador\")"
   ]
  },
  {
   "cell_type": "markdown",
   "metadata": {},
   "source": [
    "O comando acima lista todos os registros da tabela `jogador`, com todas as colunas presentes:\n",
    "\n",
    "![Seleção da tabela inteira](imgs/tudo.png)\n",
    "\n",
    "Vamos agora selecionar apenas algumas colunas para exibir."
   ]
  },
  {
   "cell_type": "code",
   "execution_count": 22,
   "metadata": {
    "scrolled": true
   },
   "outputs": [
    {
     "name": "stdout",
     "output_type": "stream",
     "text": [
      "Executando query:\n",
      "('Raul Ayres', 'Raposas Nerds')\n",
      "('Luciano Hashimoto', 'Raposas Nerds')\n",
      "('Rafael Montaigner', 'Raposas Nerds')\n"
     ]
    }
   ],
   "source": [
    "db(\"SELECT nome, nome_equipe FROM jogador\")"
   ]
  },
  {
   "cell_type": "markdown",
   "metadata": {},
   "source": [
    "Agora vemos apenas as colunas escolhidas.  A operação de seleção de colunas chama-se **projeção**.\n",
    "\n",
    "![Projeção](imgs/projecao.png)\n",
    "\n",
    "Vamos agora atuar na escolha de linhas, selecionando quais desejamos. Para escolher todas as linhas cujo `nome_equipe` começa com 'Rap' podemos executar a query a seguir:"
   ]
  },
  {
   "cell_type": "code",
   "execution_count": 23,
   "metadata": {},
   "outputs": [
    {
     "name": "stdout",
     "output_type": "stream",
     "text": [
      "Executando query:\n",
      "(2, 'Raul Ayres', 'Raposas Nerds', 0)\n",
      "(3, 'Luciano Hashimoto', 'Raposas Nerds', 1)\n",
      "(4, 'Rafael Montaigner', 'Raposas Nerds', 2)\n"
     ]
    }
   ],
   "source": [
    "db(\"SELECT * FROM jogador WHERE nome_equipe LIKE 'Rap%'\")"
   ]
  },
  {
   "cell_type": "markdown",
   "metadata": {},
   "source": [
    "Vemos apenas as linhas escolhidas. A operação de filtragem de linhas apropriadas chama-se ... **seleção**!!!\n",
    "\n",
    "![Seleção](imgs/selecao.png)\n",
    "\n",
    "Seleção e projeção são termos advindos da *álgebra relacional*, tópico que discutiremos em aulas futuras.\n",
    "\n",
    "O comando `SELECT` também pode ser usado para efetuar cálculos:"
   ]
  },
  {
   "cell_type": "code",
   "execution_count": 24,
   "metadata": {},
   "outputs": [
    {
     "name": "stdout",
     "output_type": "stream",
     "text": [
      "Executando query:\n",
      "(2,)\n"
     ]
    }
   ],
   "source": [
    "db(\"SELECT 1 + 1\")"
   ]
  },
  {
   "cell_type": "markdown",
   "metadata": {},
   "source": [
    "## Onde foram parar os dados?\n",
    "\n",
    "MySQL mantém um grande conjunto de variáveis globais para que possamos verificar o estado do sistema. Podemos consultar essas variáveis usando SQL! Afinal, se queremos armazenar informação (neste caso, sobre o próprio sistema), nada melhor que um SGBD!"
   ]
  },
  {
   "cell_type": "code",
   "execution_count": 25,
   "metadata": {
    "tags": []
   },
   "outputs": [],
   "source": [
    "# db(\"SHOW VARIABLES\")"
   ]
  },
  {
   "cell_type": "markdown",
   "metadata": {},
   "source": [
    "Para descobrir o valor de uma variável específica, use a cláusula `WHERE`:"
   ]
  },
  {
   "cell_type": "code",
   "execution_count": 26,
   "metadata": {},
   "outputs": [
    {
     "name": "stdout",
     "output_type": "stream",
     "text": [
      "Executando query:\n",
      "('version', '8.0.41')\n"
     ]
    }
   ],
   "source": [
    "db(\"SHOW VARIABLES WHERE Variable_name = 'version'\")"
   ]
  },
  {
   "cell_type": "markdown",
   "metadata": {},
   "source": [
    "Para listar todas as variáveis com \"dir\" no nome:"
   ]
  },
  {
   "cell_type": "code",
   "execution_count": 27,
   "metadata": {},
   "outputs": [
    {
     "name": "stdout",
     "output_type": "stream",
     "text": [
      "Executando query:\n",
      "('basedir', '/usr/')\n",
      "('binlog_direct_non_transactional_updates', 'OFF')\n",
      "('character_sets_dir', '/usr/share/mysql-8.0/charsets/')\n",
      "('datadir', '/var/lib/mysql/')\n",
      "('innodb_data_home_dir', '')\n",
      "('innodb_directories', '')\n",
      "('innodb_doublewrite_dir', '')\n",
      "('innodb_log_group_home_dir', './')\n",
      "('innodb_max_dirty_pages_pct', '90.000000')\n",
      "('innodb_max_dirty_pages_pct_lwm', '10.000000')\n",
      "('innodb_redo_log_archive_dirs', '')\n",
      "('innodb_temp_tablespaces_dir', './#innodb_temp/')\n",
      "('innodb_tmpdir', '')\n",
      "('innodb_undo_directory', './')\n",
      "('lc_messages_dir', '/usr/share/mysql-8.0/')\n",
      "('plugin_dir', '/usr/lib64/mysql/plugin/')\n",
      "('replica_load_tmpdir', '/tmp')\n",
      "('slave_load_tmpdir', '/tmp')\n",
      "('tmpdir', '/tmp')\n"
     ]
    }
   ],
   "source": [
    "db(\"SHOW VARIABLES WHERE Variable_name LIKE '%dir%'\")"
   ]
  },
  {
   "cell_type": "markdown",
   "metadata": {},
   "source": [
    "Observe a variável `datadir`: ela contém o diretório onde o MySQL armazena nossos dados. Por exemplo no Windows: `C:\\ProgramData\\MySQL\\MySQL Server 8.0\\Data\\`\n",
    "\n",
    "<center><img src='imgs/datadir.png'/></center>\n",
    "\n",
    "Note que esse diretório também tem várias chaves criptográficas! Uma vez que o acesso físico ao seu servidor for comprometido, você pode perder completamente o controle, pois o invasor agora tem até mesmo as chaves de acesso!\n",
    "\n",
    "Dentro do diretório `torneio` temos nossa base de dados no disco:\n",
    "\n",
    "<center><img src='imgs/torneio.png'/></center>\n"
   ]
  },
  {
   "cell_type": "markdown",
   "metadata": {},
   "source": [
    "## Carregando dados em massa\n",
    "\n",
    "Se você tem um arquivo com vários itens de dados, o melhor jeito de inserí-los no banco de dados é usar os comandos de carga de dados do seu SGBD preferido. No MySQL, veja a documentação do comando `LOAD DATA` em https://dev.mysql.com/doc/refman/8.0/en/load-data.html\n",
    "\n",
    "Daqui para frente acostume-se a consultar a documentação de todo novo comando que você descobrir!\n",
    "\n",
    "# `UPDATE`\n",
    "\n",
    "Vamos alterar informações na nossa base. Para isso vamos usar o comando `UPDATE`. \n",
    "\n",
    "Suponha que desejamos alterar o grito de guerra da equipe \"Raposas Nerds\" de 'sudo vencer!' para 'sudo vencer --force!':"
   ]
  },
  {
   "cell_type": "code",
   "execution_count": 28,
   "metadata": {},
   "outputs": [
    {
     "name": "stdout",
     "output_type": "stream",
     "text": [
      "Executando query:\n"
     ]
    }
   ],
   "source": [
    "db(\"UPDATE equipe SET grito='sudo vencer --force!' WHERE nome='Raposas Nerds'\")"
   ]
  },
  {
   "cell_type": "markdown",
   "metadata": {},
   "source": [
    "Verificando o resultado:"
   ]
  },
  {
   "cell_type": "code",
   "execution_count": 29,
   "metadata": {},
   "outputs": [
    {
     "name": "stdout",
     "output_type": "stream",
     "text": [
      "Executando query:\n",
      "('Raposas Nerds', 'sudo vencer --force!')\n"
     ]
    }
   ],
   "source": [
    "db(\"SELECT * from equipe\")"
   ]
  },
  {
   "cell_type": "markdown",
   "metadata": {},
   "source": [
    "**Atividade:** Passe o \"Rafael Montaigner\" para o time \"É nois\"."
   ]
  },
  {
   "cell_type": "code",
   "execution_count": 30,
   "metadata": {},
   "outputs": [
    {
     "name": "stdout",
     "output_type": "stream",
     "text": [
      "Executando query:\n",
      "(2, 'Raul Ayres', 'Raposas Nerds', 0)\n",
      "(3, 'Luciano Hashimoto', 'Raposas Nerds', 1)\n",
      "(4, 'Rafael Montaigner', 'Raposas Nerds', 2)\n"
     ]
    }
   ],
   "source": [
    "db(\"SELECT * FROM jogador\")"
   ]
  },
  {
   "cell_type": "code",
   "execution_count": 31,
   "metadata": {},
   "outputs": [
    {
     "name": "stdout",
     "output_type": "stream",
     "text": [
      "Executando query:\n"
     ]
    }
   ],
   "source": [
    "# Responda aqui!\n",
    "db(\"-- Sua Query AQUI!\")"
   ]
  },
  {
   "cell_type": "code",
   "execution_count": 32,
   "metadata": {},
   "outputs": [
    {
     "name": "stdout",
     "output_type": "stream",
     "text": [
      "Executando query:\n",
      "(2, 'Raul Ayres', 'Raposas Nerds', 0)\n",
      "(3, 'Luciano Hashimoto', 'Raposas Nerds', 1)\n",
      "(4, 'Rafael Montaigner', 'Raposas Nerds', 2)\n"
     ]
    }
   ],
   "source": [
    "db(\"SELECT * FROM jogador\")"
   ]
  },
  {
   "cell_type": "markdown",
   "metadata": {},
   "source": [
    "**Atividade:** Tente mudar o nome de \"Andrew Ikeda\" para \"Andrew Gomes da Silva\". O que aconteceu?"
   ]
  },
  {
   "cell_type": "code",
   "execution_count": 33,
   "metadata": {},
   "outputs": [
    {
     "name": "stdout",
     "output_type": "stream",
     "text": [
      "Executando query:\n"
     ]
    }
   ],
   "source": [
    "# Responda aqui!\n",
    "db(\"-- Sua Query AQUI!\")"
   ]
  },
  {
   "cell_type": "code",
   "execution_count": 34,
   "metadata": {},
   "outputs": [
    {
     "name": "stdout",
     "output_type": "stream",
     "text": [
      "Executando query:\n",
      "(2, 'Raul Ayres', 'Raposas Nerds', 0)\n",
      "(3, 'Luciano Hashimoto', 'Raposas Nerds', 1)\n",
      "(4, 'Rafael Montaigner', 'Raposas Nerds', 2)\n"
     ]
    }
   ],
   "source": [
    "db(\"SELECT * FROM jogador\")"
   ]
  },
  {
   "cell_type": "markdown",
   "metadata": {},
   "source": [
    "**Atividade:** Tente agora mudar o nome do time \"É nois\" para \"Somos nos\". O que aconteceu?"
   ]
  },
  {
   "cell_type": "code",
   "execution_count": 35,
   "metadata": {},
   "outputs": [
    {
     "name": "stdout",
     "output_type": "stream",
     "text": [
      "Executando query:\n"
     ]
    }
   ],
   "source": [
    "# Responda aqui!\n",
    "db(\"-- Sua Query AQUI!\")"
   ]
  },
  {
   "cell_type": "code",
   "execution_count": 36,
   "metadata": {},
   "outputs": [
    {
     "name": "stdout",
     "output_type": "stream",
     "text": [
      "Executando query:\n",
      "('Raposas Nerds', 'sudo vencer --force!')\n"
     ]
    }
   ],
   "source": [
    "db(\"SELECT * FROM equipe\")"
   ]
  },
  {
   "cell_type": "markdown",
   "metadata": {},
   "source": [
    "## `COMMIT` e `ROLLBACK`\n",
    "\n",
    "Note que as ultimas atividades (de `UPDATE`) foram feitas sem executar `connection.commit()`. Neste caso todas as modificações realizadas ainda não foram registradas no banco de dados! Estas mudanças existem apenas na nossa *sessão*. Vamos verificar esse fenômeno. Primeiro vamos ver o estado das nossas tabelas:"
   ]
  },
  {
   "cell_type": "code",
   "execution_count": 37,
   "metadata": {},
   "outputs": [
    {
     "name": "stdout",
     "output_type": "stream",
     "text": [
      "Executando query:\n",
      "(2, 'Raul Ayres', 'Raposas Nerds', 0)\n",
      "(3, 'Luciano Hashimoto', 'Raposas Nerds', 1)\n",
      "(4, 'Rafael Montaigner', 'Raposas Nerds', 2)\n"
     ]
    }
   ],
   "source": [
    "db(\"SELECT * FROM jogador\")"
   ]
  },
  {
   "cell_type": "code",
   "execution_count": 38,
   "metadata": {},
   "outputs": [
    {
     "name": "stdout",
     "output_type": "stream",
     "text": [
      "Executando query:\n",
      "('Raposas Nerds', 'sudo vencer --force!')\n"
     ]
    }
   ],
   "source": [
    "db(\"SELECT * FROM equipe\")"
   ]
  },
  {
   "cell_type": "markdown",
   "metadata": {},
   "source": [
    "Agora vamos verificar o estado do banco de dados lá no MySQL Workbench:\n",
    "\n",
    "<center><img src='imgs/equipes.png'/></center>\n",
    "\n",
    "<center><img src='imgs/jogadores.png'/></center>\n",
    "\n",
    "Está diferente! Isso acontece porque as mudanças da nossa sessão ainda não foram *committed*, não foram registradas em definitivo. Para registrar as mudanças você pode executar o comando `connection.commit()`, ou equivalentemente rodar o comando SQL `COMMIT`. Se você se arrependeu das mudanças realizadas na sessão, jogue elas fora com o comando `connection.rollback()` ou equivalentemente o comando SQL `ROLLBACK`.\n",
    "\n",
    "Vamos então concretizar nossas mudanças:"
   ]
  },
  {
   "cell_type": "code",
   "execution_count": 39,
   "metadata": {},
   "outputs": [],
   "source": [
    "connection.commit()\n",
    "# ou então db(\"COMMIT\"), é a mesma coisa."
   ]
  },
  {
   "cell_type": "markdown",
   "metadata": {},
   "source": [
    "Agora vamos verificar lá no MySQL Workbench:\n",
    "\n",
    "<center><img src='imgs/equipes2.png'/></center>\n",
    "\n",
    "<center><img src='imgs/jogadores2.png'/></center>"
   ]
  },
  {
   "cell_type": "markdown",
   "metadata": {},
   "source": [
    "Podemos constatar que as mudanças feitas na nossa sessão agora são visíveis na outra sessão (a do MySQL Workbench). Vamos revisitar futuramente os comandos `COMMIT` e `ROLLBACK` na aula de transações SQL."
   ]
  },
  {
   "cell_type": "markdown",
   "metadata": {},
   "source": [
    "## `DELETE`"
   ]
  },
  {
   "cell_type": "markdown",
   "metadata": {},
   "source": [
    "Vamos remover o 'Fábio Kurauchi' da tabela `jogador`"
   ]
  },
  {
   "cell_type": "code",
   "execution_count": 40,
   "metadata": {},
   "outputs": [
    {
     "name": "stdout",
     "output_type": "stream",
     "text": [
      "Executando query:\n"
     ]
    }
   ],
   "source": [
    "try:\n",
    "    db(\"DELETE FROM jogador WHERE nome='Fábio Kurauchi'\")\n",
    "    connection.commit()\n",
    "except Exception as e:\n",
    "    print(f\"{type(e)}: {e}\")\n",
    "    connection.rollback()"
   ]
  },
  {
   "cell_type": "markdown",
   "metadata": {},
   "source": [
    "Verificando o resultado:"
   ]
  },
  {
   "cell_type": "code",
   "execution_count": 41,
   "metadata": {},
   "outputs": [
    {
     "name": "stdout",
     "output_type": "stream",
     "text": [
      "Executando query:\n",
      "(2, 'Raul Ayres', 'Raposas Nerds', 0)\n",
      "(3, 'Luciano Hashimoto', 'Raposas Nerds', 1)\n",
      "(4, 'Rafael Montaigner', 'Raposas Nerds', 2)\n"
     ]
    }
   ],
   "source": [
    "db(\"SELECT * FROM jogador\")"
   ]
  },
  {
   "cell_type": "markdown",
   "metadata": {},
   "source": [
    "**Atividade:** Remova da tabela de jogadores todos aqueles que preferem jogar cowboy."
   ]
  },
  {
   "cell_type": "code",
   "execution_count": 42,
   "metadata": {},
   "outputs": [
    {
     "name": "stdout",
     "output_type": "stream",
     "text": [
      "Executando query:\n"
     ]
    }
   ],
   "source": [
    "# Responda aqui!\n",
    "db(\"-- Sua Query AQUI!\")"
   ]
  },
  {
   "cell_type": "code",
   "execution_count": 43,
   "metadata": {},
   "outputs": [
    {
     "name": "stdout",
     "output_type": "stream",
     "text": [
      "Executando query:\n",
      "(2, 'Raul Ayres', 'Raposas Nerds', 0)\n",
      "(3, 'Luciano Hashimoto', 'Raposas Nerds', 1)\n",
      "(4, 'Rafael Montaigner', 'Raposas Nerds', 2)\n"
     ]
    }
   ],
   "source": [
    "db(\"SELECT * FROM jogador\")"
   ]
  },
  {
   "cell_type": "markdown",
   "metadata": {},
   "source": [
    "Agora vamos tentar remover o time 'É nois':"
   ]
  },
  {
   "cell_type": "code",
   "execution_count": 44,
   "metadata": {},
   "outputs": [
    {
     "name": "stdout",
     "output_type": "stream",
     "text": [
      "Executando query:\n"
     ]
    }
   ],
   "source": [
    "try:\n",
    "    db(\"DELETE FROM equipe WHERE nome='É nois'\")\n",
    "    connection.commit()\n",
    "except Exception as e:\n",
    "    print(f\"{type(e)}: {e}\")\n",
    "    connection.rollback()"
   ]
  },
  {
   "cell_type": "markdown",
   "metadata": {},
   "source": [
    "Novamente o malfadado erro `IntegrityError`. Isso acontece porque o SGBD está fazendo exatamente o que você pediu: garantindo a integridade dos dados! Afinal, se removermos a equipe `'É nois'`, o que fazemos com as linhas da tabela-filha que referenciam esse registro?\n",
    "\n",
    "A restrição de chave estrangeira no nome da equipe (em `script_001.sql` ela foi chamada de `fk_equipe`) especifica, implicitamente, que a ação de apagar um registro deve ser bloqueada se impactar tabelas filhas. Podemos mudar essa restrição.\n",
    "\n",
    "## `ON UPDATE / ON DELETE`\n",
    "\n",
    "Vamos reescrever a restrição de chave estrangeira. Copie o script a seguir para `script_002.sql`.\n",
    "\n",
    "```mysql\n",
    "USE torneio;\n",
    "\n",
    "ALTER TABLE jogador\n",
    "    DROP FOREIGN KEY fk_equipe;\n",
    "\n",
    "ALTER TABLE jogador\n",
    "    ADD CONSTRAINT fk_equipe FOREIGN KEY (nome_equipe) REFERENCES equipe (nome)\n",
    "    ON DELETE CASCADE\n",
    "    ON UPDATE CASCADE;\n",
    "\n",
    "```"
   ]
  },
  {
   "cell_type": "markdown",
   "metadata": {},
   "source": [
    "Feche a conexão atual com o banco de dados: ela está bloqueando alterações no schema. Não se esqueça de efetivar as modificações passadas com `commit()`, se elas não foram *committed* até o momento:"
   ]
  },
  {
   "cell_type": "code",
   "execution_count": 45,
   "metadata": {},
   "outputs": [],
   "source": [
    "connection.commit()\n",
    "connection.close()"
   ]
  },
  {
   "cell_type": "markdown",
   "metadata": {},
   "source": [
    "Agora rode `script_002.sql` no MySQL Workbench. Se tudo deu certo você deve observar a mudança de ação na restrição de chave estrageira:\n",
    "\n",
    "<center><img src='imgs/cascade.png'/></center>\n",
    "\n",
    "Reabra a conexão e recrie o *helper*"
   ]
  },
  {
   "cell_type": "code",
   "execution_count": 46,
   "metadata": {},
   "outputs": [],
   "source": [
    "connection = mysql.connector.connect(**connection_options)\n",
    "db = ConnectionHelper(connection)"
   ]
  },
  {
   "cell_type": "markdown",
   "metadata": {},
   "source": [
    "Vamos agora tentar mudar o nome da equipe 'É nois' para 'Somos nós':"
   ]
  },
  {
   "cell_type": "code",
   "execution_count": 47,
   "metadata": {},
   "outputs": [
    {
     "name": "stdout",
     "output_type": "stream",
     "text": [
      "Executando query:\n"
     ]
    }
   ],
   "source": [
    "db(\"UPDATE equipe SET nome='Somos nós' WHERE nome='É nois'\")"
   ]
  },
  {
   "cell_type": "markdown",
   "metadata": {},
   "source": [
    "Verificando o resultado:"
   ]
  },
  {
   "cell_type": "code",
   "execution_count": 48,
   "metadata": {},
   "outputs": [
    {
     "name": "stdout",
     "output_type": "stream",
     "text": [
      "Executando query:\n",
      "('Raposas Nerds', 'sudo vencer --force!')\n"
     ]
    }
   ],
   "source": [
    "db(\"SELECT * from equipe\")"
   ]
  },
  {
   "cell_type": "markdown",
   "metadata": {},
   "source": [
    "Vamos verificar o que aconteceu com a tabela `jogador`"
   ]
  },
  {
   "cell_type": "code",
   "execution_count": 49,
   "metadata": {},
   "outputs": [
    {
     "name": "stdout",
     "output_type": "stream",
     "text": [
      "Executando query:\n",
      "(2, 'Raul Ayres', 'Raposas Nerds', 0)\n",
      "(3, 'Luciano Hashimoto', 'Raposas Nerds', 1)\n",
      "(4, 'Rafael Montaigner', 'Raposas Nerds', 2)\n"
     ]
    }
   ],
   "source": [
    "db(\"SELECT * FROM jogador\")"
   ]
  },
  {
   "cell_type": "markdown",
   "metadata": {},
   "source": [
    "Como você pode ver, a mudança de nome foi devidamente propagada, cortesia do `ON UPDATE CASCADE`.\n",
    "\n",
    "Já o `ON DELETE CASCADE` é mais bruto. Vamos remover o time 'Somos nós':"
   ]
  },
  {
   "cell_type": "code",
   "execution_count": 50,
   "metadata": {},
   "outputs": [
    {
     "name": "stdout",
     "output_type": "stream",
     "text": [
      "Executando query:\n"
     ]
    }
   ],
   "source": [
    "db(\"DELETE FROM equipe WHERE nome='Somos nós'\")"
   ]
  },
  {
   "cell_type": "code",
   "execution_count": 51,
   "metadata": {},
   "outputs": [
    {
     "name": "stdout",
     "output_type": "stream",
     "text": [
      "Executando query:\n",
      "('Raposas Nerds', 'sudo vencer --force!')\n"
     ]
    }
   ],
   "source": [
    "db(\"SELECT * from equipe\")"
   ]
  },
  {
   "cell_type": "markdown",
   "metadata": {},
   "source": [
    "Ok. E os jogadores?"
   ]
  },
  {
   "cell_type": "code",
   "execution_count": 52,
   "metadata": {},
   "outputs": [
    {
     "name": "stdout",
     "output_type": "stream",
     "text": [
      "Executando query:\n",
      "(2, 'Raul Ayres', 'Raposas Nerds', 0)\n",
      "(3, 'Luciano Hashimoto', 'Raposas Nerds', 1)\n",
      "(4, 'Rafael Montaigner', 'Raposas Nerds', 2)\n"
     ]
    }
   ],
   "source": [
    "db(\"SELECT * FROM jogador\")"
   ]
  },
  {
   "cell_type": "markdown",
   "metadata": {},
   "source": [
    "A ação `CASCADE` associada ao evento `ON DELETE` acabou por limpar a tabela `jogador` tambem.\n",
    "\n",
    "Vamos cancelar todas essas ações com o comando `rollback()`, que é o oposto de `commit()`"
   ]
  },
  {
   "cell_type": "code",
   "execution_count": 53,
   "metadata": {},
   "outputs": [],
   "source": [
    "connection.rollback()"
   ]
  },
  {
   "cell_type": "markdown",
   "metadata": {},
   "source": [
    "Verificando se deu certo:"
   ]
  },
  {
   "cell_type": "code",
   "execution_count": 54,
   "metadata": {},
   "outputs": [
    {
     "name": "stdout",
     "output_type": "stream",
     "text": [
      "Executando query:\n",
      "(2, 'Raul Ayres', 'Raposas Nerds', 0)\n",
      "(3, 'Luciano Hashimoto', 'Raposas Nerds', 1)\n",
      "(4, 'Rafael Montaigner', 'Raposas Nerds', 2)\n"
     ]
    }
   ],
   "source": [
    "db(\"SELECT * FROM jogador\")"
   ]
  },
  {
   "cell_type": "markdown",
   "metadata": {},
   "source": [
    "**Atividade:** Alem de `CASCADE` e `RESTRICT` existem outros especificadores de ação. Ache a URL da documentação que mostra essas opções."
   ]
  },
  {
   "cell_type": "markdown",
   "metadata": {},
   "source": [
    "<div class=\"alert alert-success\">\n",
    "\n",
    "Sua resposta aqui! Dê dois cliques e edite.\n",
    "    \n",
    "    Escreva AQUI!\n",
    "\n",
    "</div>"
   ]
  },
  {
   "cell_type": "markdown",
   "metadata": {},
   "source": [
    "## `REPLACE` = `DELETE` + `INSERT`\n",
    "\n",
    "O comando `REPLACE` lembra um pouco o comando `UPDATE`, e é aí que mora o perigo! `REPLACE` é na verdade uma combinação de `DELETE` seguido de `INSERT`. Vamos exemplificar: suponha que eu quero atualizar o grito do time 'É nois' para 'Vai dar ruim!', mas ao invés de usar o `UPDATE` resolvi usar o `REPLACE`:"
   ]
  },
  {
   "cell_type": "code",
   "execution_count": 55,
   "metadata": {},
   "outputs": [
    {
     "name": "stdout",
     "output_type": "stream",
     "text": [
      "Executando query:\n",
      "('Raposas Nerds', 'sudo vencer --force!')\n",
      "Executando query:\n",
      "(2, 'Raul Ayres', 'Raposas Nerds', 0)\n",
      "(3, 'Luciano Hashimoto', 'Raposas Nerds', 1)\n",
      "(4, 'Rafael Montaigner', 'Raposas Nerds', 2)\n"
     ]
    }
   ],
   "source": [
    "db(\"SELECT * from equipe\")\n",
    "db(\"SELECT * from jogador\")"
   ]
  },
  {
   "cell_type": "code",
   "execution_count": 56,
   "metadata": {},
   "outputs": [
    {
     "name": "stdout",
     "output_type": "stream",
     "text": [
      "Executando query:\n"
     ]
    }
   ],
   "source": [
    "db(\"REPLACE INTO equipe VALUES ('É nois', 'Vai dar ruim!')\")"
   ]
  },
  {
   "cell_type": "code",
   "execution_count": 57,
   "metadata": {},
   "outputs": [
    {
     "name": "stdout",
     "output_type": "stream",
     "text": [
      "Executando query:\n",
      "('É nois', 'Vai dar ruim!')\n",
      "('Raposas Nerds', 'sudo vencer --force!')\n"
     ]
    }
   ],
   "source": [
    "db(\"SELECT * from equipe\")"
   ]
  },
  {
   "cell_type": "code",
   "execution_count": 58,
   "metadata": {},
   "outputs": [
    {
     "name": "stdout",
     "output_type": "stream",
     "text": [
      "Executando query:\n",
      "(2, 'Raul Ayres', 'Raposas Nerds', 0)\n",
      "(3, 'Luciano Hashimoto', 'Raposas Nerds', 1)\n",
      "(4, 'Rafael Montaigner', 'Raposas Nerds', 2)\n"
     ]
    }
   ],
   "source": [
    "db(\"SELECT * from jogador\")"
   ]
  },
  {
   "cell_type": "markdown",
   "metadata": {},
   "source": [
    "Aparentemente deu ruim!\n",
    "\n",
    "**Atividade:** Explique"
   ]
  },
  {
   "cell_type": "markdown",
   "metadata": {},
   "source": [
    "<div class=\"alert alert-success\">\n",
    "\n",
    "Sua resposta aqui! Dê dois cliques e edite.\n",
    "    \n",
    "    Escreva AQUI!\n",
    "\n",
    "</div>"
   ]
  },
  {
   "cell_type": "markdown",
   "metadata": {},
   "source": [
    "Ufa, por hoje é só! Feche a conexão e até a próxima aula!"
   ]
  },
  {
   "cell_type": "code",
   "execution_count": 59,
   "metadata": {},
   "outputs": [],
   "source": [
    "connection.rollback()\n",
    "connection.close()"
   ]
  },
  {
   "cell_type": "markdown",
   "metadata": {},
   "source": [
    "## Atividade para prática de DML\n",
    "\n",
    "Faça a atividade para prática de DML.\n",
    "\n",
    "### Conferindo a API de Autograding\n",
    "\n",
    "#### Tarefas e Notas\n",
    "Vamos conferir as tarefas e notas"
   ]
  },
  {
   "cell_type": "code",
   "execution_count": 60,
   "metadata": {
    "scrolled": true
   },
   "outputs": [
    {
     "data": {
      "text/markdown": [
       "|    | Atividade   | De                  | Até                 |\n",
       "|---:|:------------|:--------------------|:--------------------|\n",
       "|  0 | newborn     | 2025-02-01 00:00:00 | 2025-05-30 00:00:00 |\n",
       "|  1 | select01    | 2025-02-06 16:00:00 | 2025-02-15 23:59:59 |\n",
       "|  2 | ddl         | 2025-02-20 00:00:00 | 2025-02-27 23:59:59 |\n",
       "|  3 | dml         | 2025-02-24 00:00:00 | 2025-03-06 15:45:59 |\n",
       "|  4 | agg_join    | 2025-02-26 00:00:00 | 2025-03-09 23:59:59 |"
      ],
      "text/plain": [
       "<IPython.core.display.Markdown object>"
      ]
     },
     "metadata": {},
     "output_type": "display_data"
    }
   ],
   "source": [
    "ia.tasks()"
   ]
  },
  {
   "cell_type": "code",
   "execution_count": 61,
   "metadata": {},
   "outputs": [
    {
     "data": {
      "text/markdown": [
       "|    | Atividade   | Exercício   |   Peso |   Nota |\n",
       "|---:|:------------|:------------|-------:|-------:|\n",
       "|  0 | dml         | ex01        |      1 |     10 |\n",
       "|  1 | dml         | ex02        |      1 |     10 |\n",
       "|  2 | dml         | ex03        |      1 |     10 |\n",
       "|  3 | dml         | ex04        |      1 |     10 |\n",
       "|  4 | dml         | ex05        |      1 |      0 |\n",
       "|  5 | dml         | ex06        |      1 |      0 |"
      ],
      "text/plain": [
       "<IPython.core.display.Markdown object>"
      ]
     },
     "metadata": {},
     "output_type": "display_data"
    }
   ],
   "source": [
    "ia.grades(task=\"dml\")"
   ]
  },
  {
   "cell_type": "code",
   "execution_count": 62,
   "metadata": {},
   "outputs": [
    {
     "data": {
      "text/markdown": [
       "|    | Tarefa   |   Nota |\n",
       "|---:|:---------|-------:|\n",
       "|  0 | agg_join |   0    |\n",
       "|  1 | ddl      |  10    |\n",
       "|  2 | dml      |   6.67 |\n",
       "|  3 | newborn  |   0    |\n",
       "|  4 | select01 |   0    |"
      ],
      "text/plain": [
       "<IPython.core.display.Markdown object>"
      ]
     },
     "metadata": {},
     "output_type": "display_data"
    }
   ],
   "source": [
    "ia.grades(by=\"TASK\")"
   ]
  },
  {
   "cell_type": "markdown",
   "metadata": {},
   "source": [
    "### Criar Base de Dados\n",
    "\n",
    "Vamos começar pela criação da base de dados. Ela deverá se chamar `vendinha`.\n",
    "\n",
    "<img src=\"imgs/vendinha.png\">\n",
    "\n",
    "<div class=\"alert alert-info\">\n",
    "\n",
    "Execute no workbench o script `vendinha.sql` disponibilizado pelo professor.\n",
    "    \n",
    "</div>"
   ]
  },
  {
   "cell_type": "code",
   "execution_count": 63,
   "metadata": {},
   "outputs": [],
   "source": [
    "connection_options_atv = {\n",
    "    \"host\": os.getenv(\"MD_DB_SERVER\"),\n",
    "    \"user\": os.getenv(\"MD_DB_USERNAME\"),\n",
    "    \"password\": os.getenv(\"MD_DB_PASSWORD\"),\n",
    "    \"database\": \"vendinha\"\n",
    "}\n",
    "\n",
    "connection_atv = mysql.connector.connect(**connection_options_atv, autocommit=True)\n",
    "\n",
    "db_atv = ConnectionHelper(connection_atv)"
   ]
  },
  {
   "cell_type": "markdown",
   "metadata": {},
   "source": [
    "**Exercício 1**: Faça uma query para inserir a região `\"N\"` com descrição `\"Norte\"` na tabela `regiao`."
   ]
  },
  {
   "cell_type": "markdown",
   "metadata": {},
   "source": [
    "<div class=\"alert alert-info\">\n",
    "\n",
    "**DICA:**\n",
    "    \n",
    "Agora que temos a função `db` para conexão com o banco, podemos testar nossas queries aqui mesmo no notebook, alternando comandos de **DML** com `SELECT` para conferir o resultado.\n",
    "</div>"
   ]
  },
  {
   "cell_type": "code",
   "execution_count": 64,
   "metadata": {},
   "outputs": [
    {
     "name": "stdout",
     "output_type": "stream",
     "text": [
      "Executando query:\n"
     ]
    }
   ],
   "source": [
    "# Deixa eu ver como está\n",
    "db_atv(\"SELECT * FROM regiao\")"
   ]
  },
  {
   "cell_type": "code",
   "execution_count": 65,
   "metadata": {},
   "outputs": [
    {
     "name": "stdout",
     "output_type": "stream",
     "text": [
      "Executando query:\n"
     ]
    }
   ],
   "source": [
    "db_atv(\"commit\")"
   ]
  },
  {
   "cell_type": "code",
   "execution_count": 66,
   "metadata": {},
   "outputs": [
    {
     "name": "stdout",
     "output_type": "stream",
     "text": [
      "Executando query:\n",
      "Executando query:\n"
     ]
    }
   ],
   "source": [
    "# Agora deixa eu responder a questão\n",
    "sql_ex01 = \"\"\"\n",
    "INSERT INTO regiao (regiao, descricao) VALUES (\"N\", \"Norte\")\n",
    "\"\"\"\n",
    "\n",
    "db_atv(sql_ex01)\n",
    "db_atv(\"commit\")"
   ]
  },
  {
   "cell_type": "code",
   "execution_count": 67,
   "metadata": {},
   "outputs": [
    {
     "name": "stdout",
     "output_type": "stream",
     "text": [
      "Executando query:\n"
     ]
    }
   ],
   "source": [
    "db_atv(\"commit\")"
   ]
  },
  {
   "cell_type": "code",
   "execution_count": 68,
   "metadata": {},
   "outputs": [
    {
     "name": "stdout",
     "output_type": "stream",
     "text": [
      "Executando query:\n",
      "('N', 'Norte')\n"
     ]
    }
   ],
   "source": [
    "# Deixa eu ver o RESULTADO!\n",
    "db_atv(\"SELECT * FROM regiao\")"
   ]
  },
  {
   "cell_type": "code",
   "execution_count": 69,
   "metadata": {},
   "outputs": [
    {
     "data": {
      "application/vnd.jupyter.widget-view+json": {
       "model_id": "739aee7568dd4def8dd0df5ccb59d972",
       "version_major": 2,
       "version_minor": 0
      },
      "text/plain": [
       "interactive(children=(Button(description='Enviar ex01', style=ButtonStyle()), Output()), _dom_classes=('widget…"
      ]
     },
     "metadata": {},
     "output_type": "display_data"
    }
   ],
   "source": [
    "ia.sender(answer=\"sql_ex01\", task=\"dml\", question=\"ex01\", answer_type=\"pyvar\")"
   ]
  },
  {
   "cell_type": "markdown",
   "metadata": {},
   "source": [
    "**Exercício 2**: Em uma única query (sem fazer vários `INSERT`), insira as regiões na tabela `regiao`:\n",
    "\n",
    "- a região `\"NE\"` com descrição `\"Nordeste\"`.\n",
    "- a região `\"SE\"` com descrição `\"Sudeste\"`.\n",
    "- a região `\"S\"` com descrição `\"Sul\"`.\n",
    "- a região `\"CO\"` com descrição `\"Centro-Oeste\"`."
   ]
  },
  {
   "cell_type": "code",
   "execution_count": 70,
   "metadata": {},
   "outputs": [
    {
     "name": "stdout",
     "output_type": "stream",
     "text": [
      "Executando query:\n",
      "('N', 'Norte')\n"
     ]
    }
   ],
   "source": [
    "# Deixa eu ver como está\n",
    "db_atv(\"SELECT * FROM regiao\")"
   ]
  },
  {
   "cell_type": "code",
   "execution_count": 71,
   "metadata": {},
   "outputs": [
    {
     "name": "stdout",
     "output_type": "stream",
     "text": [
      "Executando query:\n",
      "Executando query:\n"
     ]
    }
   ],
   "source": [
    "# Agora deixa eu responder a questão\n",
    "sql_ex02 = \"\"\"\n",
    "INSERT INTO regiao (regiao, descricao) VALUES (\"NE\", \"Nordeste\"), (\"SE\", \"Sudeste\"), (\"S\", \"Sul\"), (\"CO\", \"Centro-Oeste\")\n",
    "\"\"\"\n",
    "\n",
    "db_atv(sql_ex02)\n",
    "db_atv(\"commit\")"
   ]
  },
  {
   "cell_type": "code",
   "execution_count": 72,
   "metadata": {
    "scrolled": true
   },
   "outputs": [
    {
     "name": "stdout",
     "output_type": "stream",
     "text": [
      "Executando query:\n",
      "('CO', 'Centro-Oeste')\n",
      "('N', 'Norte')\n",
      "('NE', 'Nordeste')\n",
      "('S', 'Sul')\n",
      "('SE', 'Sudeste')\n"
     ]
    }
   ],
   "source": [
    "# Deixa eu ver o RESULTADO!\n",
    "db_atv(\"SELECT * FROM regiao\")"
   ]
  },
  {
   "cell_type": "code",
   "execution_count": 73,
   "metadata": {
    "scrolled": true
   },
   "outputs": [
    {
     "data": {
      "application/vnd.jupyter.widget-view+json": {
       "model_id": "9293c381622947d28d8882dd7d3b9e99",
       "version_major": 2,
       "version_minor": 0
      },
      "text/plain": [
       "interactive(children=(Button(description='Enviar ex02', style=ButtonStyle()), Output()), _dom_classes=('widget…"
      ]
     },
     "metadata": {},
     "output_type": "display_data"
    }
   ],
   "source": [
    "ia.sender(answer=\"sql_ex02\", task=\"dml\", question=\"ex02\", answer_type=\"pyvar\")"
   ]
  },
  {
   "cell_type": "markdown",
   "metadata": {},
   "source": [
    "**Exercício 3**: Considere que as seguinte queries foram executadas:\n",
    "\n",
    "```mysql\n",
    "INSERT INTO vendinha.uf\n",
    "    (uf, descricao, regiao)\n",
    "VALUES\n",
    "    ('sp', 'São Paulo', 'SE'),\n",
    "    ('mg', 'Minas Gerais', 'SE'),\n",
    "    ('pr', 'Paraná', 'S'),\n",
    "    ('am', 'Amazonas', 'N'),\n",
    "    ('ba', 'Bahia', 'NE');\n",
    "```\n",
    "\n",
    "**Obs**: vamos supor que as cinco regiões do BR estão cadastradas. Cadastre-as em sua base local usando a chamada do banco (aqui do notebook mesmo)!\n",
    "\n",
    "Crie uma que altere para **maiúsculo** o `uf` apenas dos estados da região **sudeste**."
   ]
  },
  {
   "cell_type": "code",
   "execution_count": 74,
   "metadata": {},
   "outputs": [],
   "source": [
    "# db_atv(\"\"\"\n",
    "# INSERT INTO vendinha.uf\n",
    "#     (uf, descricao, regiao)\n",
    "# VALUES\n",
    "#     ('sp', 'São Paulo', 'SE'),\n",
    "#     ('mg', 'Minas Gerais', 'SE'),\n",
    "#     ('pr', 'Paraná', 'S'),\n",
    "#     ('am', 'Amazonas', 'N'),\n",
    "#     ('ba', 'Bahia', 'NE');\n",
    "# \"\"\")"
   ]
  },
  {
   "cell_type": "code",
   "execution_count": 75,
   "metadata": {},
   "outputs": [
    {
     "name": "stdout",
     "output_type": "stream",
     "text": [
      "Executando query:\n"
     ]
    }
   ],
   "source": [
    "# Deixa eu ver como está\n",
    "db_atv(\"SELECT * FROM uf\")"
   ]
  },
  {
   "cell_type": "code",
   "execution_count": 76,
   "metadata": {},
   "outputs": [
    {
     "name": "stdout",
     "output_type": "stream",
     "text": [
      "Executando query:\n",
      "Executando query:\n"
     ]
    }
   ],
   "source": [
    "# Agora deixa eu responder a questão\n",
    "sql_ex03 = \"\"\"\n",
    "UPDATE vendinha.uf SET uf = UPPER(uf) WHERE regiao = 'SE';\n",
    "\"\"\"\n",
    "\n",
    "db_atv(sql_ex03)\n",
    "db_atv(\"commit\")"
   ]
  },
  {
   "cell_type": "code",
   "execution_count": 77,
   "metadata": {
    "scrolled": false
   },
   "outputs": [
    {
     "name": "stdout",
     "output_type": "stream",
     "text": [
      "Executando query:\n"
     ]
    }
   ],
   "source": [
    "# Deixa eu ver o RESULTADO!\n",
    "db_atv(\"SELECT * FROM uf\")"
   ]
  },
  {
   "cell_type": "code",
   "execution_count": 78,
   "metadata": {
    "scrolled": false
   },
   "outputs": [
    {
     "data": {
      "application/vnd.jupyter.widget-view+json": {
       "model_id": "9b6d6c5bb9a04b309d98517dedc4e1d4",
       "version_major": 2,
       "version_minor": 0
      },
      "text/plain": [
       "interactive(children=(Button(description='Enviar ex03', style=ButtonStyle()), Output()), _dom_classes=('widget…"
      ]
     },
     "metadata": {},
     "output_type": "display_data"
    }
   ],
   "source": [
    "ia.sender(answer=\"sql_ex03\", task=\"dml\", question=\"ex03\", answer_type=\"pyvar\")"
   ]
  },
  {
   "cell_type": "markdown",
   "metadata": {},
   "source": [
    "**Exercício 4**: Considere que as seguinte queries foram executadas:\n",
    "\n",
    "<div class=\"alert alert-info\">\n",
    "\n",
    "Perceba que os `uf` estão em maúsculo neste exercício!\n",
    "\n",
    "</div>\n",
    "\n",
    "**Tabela `uf`**:\n",
    "```mysql\n",
    "INSERT INTO vendinha.uf\n",
    "    (uf, descricao, regiao)\n",
    "VALUES\n",
    "    ('SP', 'São Paulo', 'SE'),\n",
    "    ('MG', 'Minas Gerais', 'SE'),\n",
    "    ('PR', 'Paraná', 'S'),\n",
    "    ('AM', 'Amazonas', 'N'),\n",
    "    ('BA', 'Bahia', 'NE');\n",
    "```\n",
    "\n",
    "**Tabela `cidade`**:\n",
    "```mysql\n",
    "INSERT INTO vendinha.cidade\n",
    "    (id, descricao, uf)\n",
    "VALUES\n",
    "    (20, 'São Paulo', 'SP'),\n",
    "    (21, 'Campinas', 'SP'),\n",
    "    (22, 'Salvador', 'BA'),\n",
    "    (23, 'Manaus', 'AM'),\n",
    "    (24, 'Belo Horizonte', 'MG'),\n",
    "    (25, 'São Roque de Minas', 'MG');\n",
    "```\n",
    "\n",
    "**Tabela `vendedor`**:\n",
    "```mysql\n",
    "INSERT INTO vendinha.vendedor\n",
    "    (id, nome, data_nasc, data_cad, ativo)\n",
    "VALUES\n",
    "    (100, 'Maria Roque', '1988-01-01', '2023-06-11', 1),\n",
    "    (101, 'Ana Benedita', '1970-12-09', '2023-07-15', 1),\n",
    "    (102, 'Silvio Jardim', '1988-12-25', '2023-08-01', 1),\n",
    "    (103, 'Bruna Fontana', '1981-07-05', '2023-09-01', 1),\n",
    "    (104, 'Tulio Maravilha', '1978-09-22', '2023-08-07', 1),\n",
    "    (105, 'Gino Pereira', '1964-04-03', '2023-08-25', 0),\n",
    "    (106, 'Camila Oliveira', '1992-08-05', '2023-09-01', 1),\n",
    "    (107, 'Mariana Souza', '1985-08-29', '2023-09-01', 1);\n",
    "```\n",
    "\n",
    "\n",
    "**Obs**: vamos supor que as cinco regiões do BR estão cadastradas. Cadastre-as em sua base local usando a chamada do banco (aqui do notebook mesmo)!\n",
    "\n",
    "Foi descoberto que todos os vendedores cadastrados em **agosto de 2023** são bots e devem ser removidos da base. Construa sua query!"
   ]
  },
  {
   "cell_type": "code",
   "execution_count": 79,
   "metadata": {},
   "outputs": [
    {
     "name": "stdout",
     "output_type": "stream",
     "text": [
      "Executando query:\n"
     ]
    }
   ],
   "source": [
    "# Deixa eu ver como está\n",
    "db_atv(\"SELECT * FROM vendedor\")"
   ]
  },
  {
   "cell_type": "code",
   "execution_count": 80,
   "metadata": {},
   "outputs": [
    {
     "name": "stdout",
     "output_type": "stream",
     "text": [
      "Executando query:\n",
      "Executando query:\n"
     ]
    }
   ],
   "source": [
    "# Agora deixa eu responder a questão\n",
    "\n",
    "sql_ex04 = \"\"\"\n",
    "DELETE FROM vendinha.vendedor WHERE MONTH(data_cad) = 8 AND YEAR(data_cad) = 2023;\n",
    "\"\"\"\n",
    "\n",
    "db_atv(sql_ex04)\n",
    "db_atv(\"commit\")"
   ]
  },
  {
   "cell_type": "code",
   "execution_count": 81,
   "metadata": {},
   "outputs": [
    {
     "name": "stdout",
     "output_type": "stream",
     "text": [
      "Executando query:\n"
     ]
    }
   ],
   "source": [
    "db_atv(\"commit\")"
   ]
  },
  {
   "cell_type": "code",
   "execution_count": 82,
   "metadata": {
    "scrolled": true
   },
   "outputs": [
    {
     "name": "stdout",
     "output_type": "stream",
     "text": [
      "Executando query:\n"
     ]
    }
   ],
   "source": [
    "# Deixa eu ver o RESULTADO!\n",
    "db_atv(\"SELECT * FROM vendedor\")"
   ]
  },
  {
   "cell_type": "code",
   "execution_count": 83,
   "metadata": {
    "scrolled": false
   },
   "outputs": [
    {
     "data": {
      "application/vnd.jupyter.widget-view+json": {
       "model_id": "1749d29eb2e742c68ca915a46c04d6e0",
       "version_major": 2,
       "version_minor": 0
      },
      "text/plain": [
       "interactive(children=(Button(description='Enviar ex04', style=ButtonStyle()), Output()), _dom_classes=('widget…"
      ]
     },
     "metadata": {},
     "output_type": "display_data"
    }
   ],
   "source": [
    "ia.sender(answer=\"sql_ex04\", task=\"dml\", question=\"ex04\", answer_type=\"pyvar\")"
   ]
  },
  {
   "cell_type": "markdown",
   "metadata": {},
   "source": [
    "**Exercício 5**: Considere que as seguinte queries foram executadas:\n",
    "\n",
    "<div class=\"alert alert-info\">\n",
    "\n",
    "Perceba que os `uf` estão em maúsculo neste exercício!\n",
    "\n",
    "</div>\n",
    "\n",
    "**Tabela `uf`**:\n",
    "```mysql\n",
    "INSERT INTO vendinha.uf\n",
    "    (uf, descricao, regiao)\n",
    "VALUES\n",
    "    ('SP', 'São Paulo', 'SE'),\n",
    "    ('MG', 'Minas Gerais', 'SE'),\n",
    "    ('PR', 'Paraná', 'S'),\n",
    "    ('AM', 'Amazonas', 'N'),\n",
    "    ('BA', 'Bahia', 'NE');\n",
    "```\n",
    "\n",
    "**Tabela `cidade`**:\n",
    "```mysql\n",
    "INSERT INTO vendinha.cidade\n",
    "    (id, descricao, uf)\n",
    "VALUES\n",
    "    (20, 'São Paulo', 'SP'),\n",
    "    (21, 'Campinas', 'SP'),\n",
    "    (22, 'Salvador', 'BA'),\n",
    "    (23, 'Manaus', 'AM'),\n",
    "    (24, 'Belo Horizonte', 'MG'),\n",
    "    (25, 'São Roque de Minas', 'MG');\n",
    "```\n",
    "\n",
    "**Tabela `vendedor`**:\n",
    "```mysql\n",
    "INSERT INTO vendinha.vendedor\n",
    "    (id, nome, data_nasc, data_cad, ativo)\n",
    "VALUES\n",
    "    (100, 'Maria Roque', '1988-01-01', '2023-06-11', 1),\n",
    "    (101, 'Ana Benedita', '1970-12-09', '2023-07-15', 1),\n",
    "    (102, 'Silvio Jardim', '1988-12-25', '2023-08-01', 1),\n",
    "    (103, 'Bruna Fontana', '1981-07-05', '2023-09-01', 1),\n",
    "    (104, 'Tulio Maravilha', '1978-09-22', '2023-08-07', 1),\n",
    "    (105, 'Gino Pereira', '1964-04-03', '2023-08-25', 0),\n",
    "    (106, 'Camila Oliveira', '1992-08-05', '2023-09-01', 1),\n",
    "    (107, 'Mariana Souza', '1985-08-29', '2023-09-01', 1);\n",
    "```\n",
    "\n",
    "\n",
    "**Obs**: vamos supor que as cinco regiões do BR estão cadastradas. Cadastre-as em sua base local usando a chamada do banco (aqui do notebook mesmo)!\n",
    "\n",
    "Dadas as relações de **vendedores** e **cidades onde vendedor vende**:\n",
    "\n",
    "- Bruna Fontana:\n",
    "    - São Paulo SP\n",
    "    - Campinas SP\n",
    "- Silvio Jardim:\n",
    "    - São Paulo SP\n",
    "    - Belo Horizonte MG\n",
    "    - São Roque de Minas\n",
    "- Camila Oliveira:\n",
    "    - Manaus AM\n",
    "    \n",
    "Construa uma query para popular a tabela `vendedor_vende_cidade`."
   ]
  },
  {
   "cell_type": "code",
   "execution_count": 84,
   "metadata": {},
   "outputs": [
    {
     "name": "stdout",
     "output_type": "stream",
     "text": [
      "Executando query:\n"
     ]
    }
   ],
   "source": [
    "db_atv(\"\"\"\n",
    "INSERT INTO vendinha.uf\n",
    "    (uf, descricao, regiao)\n",
    "VALUES\n",
    "    ('SP', 'São Paulo', 'SE'),\n",
    "    ('MG', 'Minas Gerais', 'SE'),\n",
    "    ('PR', 'Paraná', 'S'),\n",
    "    ('AM', 'Amazonas', 'N'),\n",
    "    ('BA', 'Bahia', 'NE');\n",
    "       \n",
    "INSERT INTO vendinha.cidade\n",
    "    (id, descricao, uf)\n",
    "VALUES\n",
    "    (20, 'São Paulo', 'SP'),\n",
    "    (21, 'Campinas', 'SP'),\n",
    "    (22, 'Salvador', 'BA'),\n",
    "    (23, 'Manaus', 'AM'),\n",
    "    (24, 'Belo Horizonte', 'MG'),\n",
    "    (25, 'São Roque de Minas', 'MG');\n",
    "\n",
    "INSERT INTO vendinha.vendedor\n",
    "    (id, nome, data_nasc, data_cad, ativo)\n",
    "VALUES\n",
    "    (100, 'Maria Roque', '1988-01-01', '2023-06-11', 1),\n",
    "    (101, 'Ana Benedita', '1970-12-09', '2023-07-15', 1),\n",
    "    (102, 'Silvio Jardim', '1988-12-25', '2023-08-01', 1),\n",
    "    (103, 'Bruna Fontana', '1981-07-05', '2023-09-01', 1),\n",
    "    (104, 'Tulio Maravilha', '1978-09-22', '2023-08-07', 1),\n",
    "    (105, 'Gino Pereira', '1964-04-03', '2023-08-25', 0),\n",
    "    (106, 'Camila Oliveira', '1992-08-05', '2023-09-01', 1),\n",
    "    (107, 'Mariana Souza', '1985-08-29', '2023-09-01', 1);\n",
    "\"\"\")"
   ]
  },
  {
   "cell_type": "code",
   "execution_count": 85,
   "metadata": {},
   "outputs": [],
   "source": [
    "db_atv.connection.reconnect()"
   ]
  },
  {
   "cell_type": "code",
   "execution_count": 86,
   "metadata": {},
   "outputs": [
    {
     "name": "stdout",
     "output_type": "stream",
     "text": [
      "Executando query:\n",
      "('AM', 'Amazonas', 'N')\n",
      "('BA', 'Bahia', 'NE')\n",
      "('MG', 'Minas Gerais', 'SE')\n",
      "('PR', 'Paraná', 'S')\n",
      "('SP', 'São Paulo', 'SE')\n"
     ]
    }
   ],
   "source": [
    "# Deixa eu ver como está\n",
    "db_atv(\"SELECT * FROM uf\")"
   ]
  },
  {
   "cell_type": "code",
   "execution_count": 89,
   "metadata": {},
   "outputs": [
    {
     "name": "stdout",
     "output_type": "stream",
     "text": [
      "Executando query:\n"
     ]
    }
   ],
   "source": [
    "sql_ex05 = \"\"\"\n",
    "INSERT INTO vendinha.vendedor_vende_cidade (id_vendedor, id_cidade) VALUES (103, 20), (103, 21), (102, 20), (102, 24), (102, 25), (106, 23);\n",
    "\"\"\"\n",
    "\n",
    "db_atv(sql_ex05)"
   ]
  },
  {
   "cell_type": "code",
   "execution_count": 90,
   "metadata": {
    "scrolled": true
   },
   "outputs": [
    {
     "name": "stdout",
     "output_type": "stream",
     "text": [
      "Executando query:\n",
      "(102, 20)\n",
      "(103, 20)\n",
      "(103, 21)\n",
      "(106, 23)\n",
      "(102, 24)\n",
      "(102, 25)\n"
     ]
    }
   ],
   "source": [
    "# Deixa eu ver o RESULTADO!\n",
    "db_atv(\"SELECT * FROM vendedor_vende_cidade\")"
   ]
  },
  {
   "cell_type": "code",
   "execution_count": 91,
   "metadata": {},
   "outputs": [
    {
     "data": {
      "application/vnd.jupyter.widget-view+json": {
       "model_id": "835ee716291547ecb213cd3397d5d68d",
       "version_major": 2,
       "version_minor": 0
      },
      "text/plain": [
       "interactive(children=(Button(description='Enviar ex05', style=ButtonStyle()), Output()), _dom_classes=('widget…"
      ]
     },
     "metadata": {},
     "output_type": "display_data"
    }
   ],
   "source": [
    "ia.sender(answer=\"sql_ex05\", task=\"dml\", question=\"ex05\", answer_type=\"pyvar\")"
   ]
  },
  {
   "cell_type": "markdown",
   "metadata": {},
   "source": [
    "**Exercício 6**: Considere que as seguinte queries foram executadas:\n",
    "\n",
    "**Tabela `uf`**:\n",
    "```mysql\n",
    "INSERT INTO vendinha.uf\n",
    "    (uf, descricao, regiao)\n",
    "VALUES\n",
    "    ('SP', 'São Paulo', 'SE'),\n",
    "    ('MG', 'Minas Gerais', 'SE'),\n",
    "    ('PR', 'Paraná', 'S'),\n",
    "    ('AM', 'Amazonas', 'N'),\n",
    "    ('BA', 'Bahia', 'NE');\n",
    "```\n",
    "\n",
    "**Tabela `cidade`**:\n",
    "```mysql\n",
    "INSERT INTO vendinha.cidade\n",
    "    (id, descricao, uf)\n",
    "VALUES\n",
    "    (20, 'São Paulo', 'SP'),\n",
    "    (21, 'Campinas', 'SP'),\n",
    "    (22, 'Salvador', 'BA'),\n",
    "    (23, 'Manaus', 'AM'),\n",
    "    (24, 'Belo Horizonte', 'MG'),\n",
    "    (25, 'São Roque de Minas', 'MG');\n",
    "```\n",
    "\n",
    "**Tabela `vendedor`**:\n",
    "```mysql\n",
    "INSERT INTO vendinha.vendedor\n",
    "    (id, nome, data_nasc, data_cad, ativo)\n",
    "VALUES\n",
    "    (100, 'Maria Roque', '1988-01-01', '2023-06-11', 1),\n",
    "    (101, 'Ana Benedita', '1970-12-09', '2023-07-15', 1),\n",
    "    (102, 'Silvio Jardim', '1988-12-25', '2023-08-01', 1),\n",
    "    (103, 'Bruna Fontana', '1981-07-05', '2023-09-01', 1),\n",
    "    (104, 'Tulio Maravilha', '1978-09-22', '2023-08-07', 1),\n",
    "    (105, 'Gino Pereira', '1964-04-03', '2023-08-25', 0),\n",
    "    (106, 'Camila Oliveira', '1992-08-05', '2023-09-01', 1),\n",
    "    (107, 'Mariana Souza', '1985-08-29', '2023-09-01', 1);\n",
    "```\n",
    "\n",
    "Ainda, considere uma nova tabela chamada `vendedor_ativo_dia` com o esquema:\n",
    "\n",
    "| Coluna         | Tipo         | PK (Primary Key?) | Not Null? | Autoinc?\n",
    "|----------------|--------------|-------------------|-----------|-----------|\n",
    "| id             | INT          |   True            |    True   |     True  |\n",
    "| id_vendedor    | INT          |                   |    True   |           |\n",
    "| ativo          | TYNYINT      |                   |    True   |           |\n",
    "| data_registro  | DATE         |                   |    True   |           |\n",
    "\n",
    "Considere que a tabela `vendedor_ativo_dia` é utilizada para criar um registro histórico de todos os vendedores que estão ativos em cada data.\n",
    "\n",
    "**Obs**: vamos supor que as cinco regiões do BR estão cadastradas. Cadastre-as em sua base local usando a chamada do banco (aqui do notebook mesmo)!\n",
    "\n",
    "Construa uma query que faça a inserção dos dados na tabela `vendedor_ativo_dia` a partir de um `SELECT` dos vendedores ativos da tabela de vendedor.\n",
    "\n",
    "<div class=\"alert alert-danger\">\n",
    "\n",
    "Não deixe a data **hardcoded**. Pesquise como recuperar a data atual do sistema em uma query.\n",
    "\n",
    "</div>\n",
    "  \n",
    "<div class=\"alert alert-info\">\n",
    "\n",
    "Por simplificação, não é necessário criar as constraints de chave extrangeira na tabela `vendedor_ativo_dia`.\n",
    "\n",
    "</div>\n",
    "\n",
    "Sugestão de resolução:\n",
    "- Criar DDL para `vendedor_ativo_dia`\n",
    "- Criar SELECT para pegar:\n",
    "    - Vendedores ativos\n",
    "    - com o dia de hoje\n",
    "- Inserir estes dados (usando `SELECT`) na tabela `vendedor_ativo_dia`.\n",
    "\n",
    "Não é necessário enviar a **DDL** para o servidor."
   ]
  },
  {
   "cell_type": "code",
   "execution_count": 96,
   "metadata": {},
   "outputs": [
    {
     "name": "stdout",
     "output_type": "stream",
     "text": [
      "Executando query:\n"
     ]
    }
   ],
   "source": [
    "db_atv(\"\"\"\n",
    "CREATE TABLE vendedor_ativo_dia (\n",
    "    id INT PRIMARY KEY AUTO_INCREMENT,\n",
    "    id_vendedor INT NOT NULL,\n",
    "    ativo TINYINT NOT NULL,\n",
    "    data_registro DATE NOT NULL\n",
    ");\n",
    "\"\"\")"
   ]
  },
  {
   "cell_type": "code",
   "execution_count": 94,
   "metadata": {},
   "outputs": [
    {
     "name": "stdout",
     "output_type": "stream",
     "text": [
      "Executando query:\n",
      "(100, 'Maria Roque', datetime.date(1988, 1, 1), datetime.date(2023, 6, 11), 1)\n",
      "(101, 'Ana Benedita', datetime.date(1970, 12, 9), datetime.date(2023, 7, 15), 1)\n",
      "(102, 'Silvio Jardim', datetime.date(1988, 12, 25), datetime.date(2023, 8, 1), 1)\n",
      "(103, 'Bruna Fontana', datetime.date(1981, 7, 5), datetime.date(2023, 9, 1), 1)\n",
      "(104, 'Tulio Maravilha', datetime.date(1978, 9, 22), datetime.date(2023, 8, 7), 1)\n",
      "(106, 'Camila Oliveira', datetime.date(1992, 8, 5), datetime.date(2023, 9, 1), 1)\n",
      "(107, 'Mariana Souza', datetime.date(1985, 8, 29), datetime.date(2023, 9, 1), 1)\n"
     ]
    }
   ],
   "source": [
    "# Deixa eu ver como está\n",
    "db_atv(\"SELECT * FROM vendedor WHERE ativo = 1\")"
   ]
  },
  {
   "cell_type": "code",
   "execution_count": 101,
   "metadata": {},
   "outputs": [
    {
     "name": "stdout",
     "output_type": "stream",
     "text": [
      "Executando query:\n"
     ]
    }
   ],
   "source": [
    "# Agora deixa eu responder a questão\n",
    "sql_ex06 = \"\"\"\n",
    "INSERT INTO vendinha.vendedor_ativo_dia (id_vendedor, ativo, data_registro)\n",
    "SELECT id, ativo, CURDATE() FROM vendinha.vendedor WHERE ativo = 1;\n",
    "\"\"\"\n",
    "\n",
    "db_atv(sql_ex06)"
   ]
  },
  {
   "cell_type": "code",
   "execution_count": 102,
   "metadata": {
    "scrolled": true
   },
   "outputs": [
    {
     "name": "stdout",
     "output_type": "stream",
     "text": [
      "Executando query:\n",
      "(1, 100, 1, datetime.date(2023, 6, 11))\n",
      "(2, 101, 1, datetime.date(2023, 7, 15))\n",
      "(3, 102, 1, datetime.date(2023, 8, 1))\n",
      "(4, 103, 1, datetime.date(2023, 9, 1))\n",
      "(5, 104, 1, datetime.date(2023, 8, 7))\n",
      "(6, 106, 1, datetime.date(2023, 9, 1))\n",
      "(7, 107, 1, datetime.date(2023, 9, 1))\n",
      "(8, 100, 1, datetime.date(2025, 3, 5))\n",
      "(9, 101, 1, datetime.date(2025, 3, 5))\n",
      "(10, 102, 1, datetime.date(2025, 3, 5))\n",
      "(11, 103, 1, datetime.date(2025, 3, 5))\n",
      "(12, 104, 1, datetime.date(2025, 3, 5))\n",
      "(13, 106, 1, datetime.date(2025, 3, 5))\n",
      "(14, 107, 1, datetime.date(2025, 3, 5))\n"
     ]
    }
   ],
   "source": [
    "# Deixa eu ver o RESULTADO!\n",
    "db_atv(\"SELECT * FROM vendedor_ativo_dia\")"
   ]
  },
  {
   "cell_type": "code",
   "execution_count": 103,
   "metadata": {},
   "outputs": [
    {
     "data": {
      "application/vnd.jupyter.widget-view+json": {
       "model_id": "c646e77ad33d4e6a90e2a2f2b3173f0a",
       "version_major": 2,
       "version_minor": 0
      },
      "text/plain": [
       "interactive(children=(Button(description='Enviar ex06', style=ButtonStyle()), Output()), _dom_classes=('widget…"
      ]
     },
     "metadata": {},
     "output_type": "display_data"
    }
   ],
   "source": [
    "ia.sender(answer=\"sql_ex06\", task=\"dml\", question=\"ex06\", answer_type=\"pyvar\")"
   ]
  },
  {
   "cell_type": "markdown",
   "metadata": {},
   "source": [
    "### Conferir Notas\n",
    "\n",
    "Confira se as notas na atividade são as esperadas!\n",
    "\n",
    "Primeiro na atividade atual!"
   ]
  },
  {
   "cell_type": "code",
   "execution_count": 104,
   "metadata": {
    "scrolled": true
   },
   "outputs": [
    {
     "data": {
      "text/markdown": [
       "|    | Tarefa   |   Nota |\n",
       "|---:|:---------|-------:|\n",
       "|  0 | dml      |     10 |"
      ],
      "text/plain": [
       "<IPython.core.display.Markdown object>"
      ]
     },
     "metadata": {},
     "output_type": "display_data"
    }
   ],
   "source": [
    "ia.grades(by=\"TASK\", task=\"dml\")"
   ]
  },
  {
   "cell_type": "code",
   "execution_count": 105,
   "metadata": {},
   "outputs": [
    {
     "data": {
      "text/markdown": [
       "|    | Atividade   | Exercício   |   Peso |   Nota |\n",
       "|---:|:------------|:------------|-------:|-------:|\n",
       "|  0 | dml         | ex01        |      1 |     10 |\n",
       "|  1 | dml         | ex02        |      1 |     10 |\n",
       "|  2 | dml         | ex03        |      1 |     10 |\n",
       "|  3 | dml         | ex04        |      1 |     10 |\n",
       "|  4 | dml         | ex05        |      1 |     10 |\n",
       "|  5 | dml         | ex06        |      1 |     10 |"
      ],
      "text/plain": [
       "<IPython.core.display.Markdown object>"
      ]
     },
     "metadata": {},
     "output_type": "display_data"
    }
   ],
   "source": [
    "ia.grades(task=\"dml\")"
   ]
  },
  {
   "cell_type": "markdown",
   "metadata": {},
   "source": [
    "E agora em todas as demais!"
   ]
  },
  {
   "cell_type": "code",
   "execution_count": 106,
   "metadata": {},
   "outputs": [
    {
     "data": {
      "text/markdown": [
       "|    | Tarefa   |   Nota |\n",
       "|---:|:---------|-------:|\n",
       "|  0 | agg_join |      0 |\n",
       "|  1 | ddl      |     10 |\n",
       "|  2 | dml      |     10 |\n",
       "|  3 | newborn  |      0 |\n",
       "|  4 | select01 |      0 |"
      ],
      "text/plain": [
       "<IPython.core.display.Markdown object>"
      ]
     },
     "metadata": {},
     "output_type": "display_data"
    }
   ],
   "source": [
    "ia.grades(by=\"TASK\")"
   ]
  },
  {
   "cell_type": "code",
   "execution_count": null,
   "metadata": {},
   "outputs": [],
   "source": [
    "ia.grades()"
   ]
  }
 ],
 "metadata": {
  "kernelspec": {
   "display_name": "Python 3",
   "language": "python",
   "name": "python3"
  },
  "language_info": {
   "codemirror_mode": {
    "name": "ipython",
    "version": 3
   },
   "file_extension": ".py",
   "mimetype": "text/x-python",
   "name": "python",
   "nbconvert_exporter": "python",
   "pygments_lexer": "ipython3",
   "version": "3.11.6"
  }
 },
 "nbformat": 4,
 "nbformat_minor": 4
}
